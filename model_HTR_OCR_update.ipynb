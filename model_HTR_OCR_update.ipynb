{
  "cells": [
    {
      "cell_type": "markdown",
      "metadata": {
        "id": "lk1QsjI5rDvd"
      },
      "source": [
        "**Installing Kaggle to use kaggle dataset on Google Colab.**"
      ]
    },
    {
      "cell_type": "code",
      "execution_count": 1,
      "metadata": {
        "colab": {
          "base_uri": "https://localhost:8080/"
        },
        "id": "yKnLMN0e86Yv",
        "outputId": "e25e1f90-ff93-42fe-b2db-72d9022774ed"
      },
      "outputs": [
        {
          "name": "stdout",
          "output_type": "stream",
          "text": [
            "Requirement already satisfied: tensorflow==2.15.0 in /usr/local/lib/python3.10/dist-packages (2.15.0)\n",
            "Requirement already satisfied: absl-py>=1.0.0 in /usr/local/lib/python3.10/dist-packages (from tensorflow==2.15.0) (1.4.0)\n",
            "Requirement already satisfied: astunparse>=1.6.0 in /usr/local/lib/python3.10/dist-packages (from tensorflow==2.15.0) (1.6.3)\n",
            "Requirement already satisfied: flatbuffers>=23.5.26 in /usr/local/lib/python3.10/dist-packages (from tensorflow==2.15.0) (24.3.25)\n",
            "Requirement already satisfied: gast!=0.5.0,!=0.5.1,!=0.5.2,>=0.2.1 in /usr/local/lib/python3.10/dist-packages (from tensorflow==2.15.0) (0.5.4)\n",
            "Requirement already satisfied: google-pasta>=0.1.1 in /usr/local/lib/python3.10/dist-packages (from tensorflow==2.15.0) (0.2.0)\n",
            "Requirement already satisfied: h5py>=2.9.0 in /usr/local/lib/python3.10/dist-packages (from tensorflow==2.15.0) (3.9.0)\n",
            "Requirement already satisfied: libclang>=13.0.0 in /usr/local/lib/python3.10/dist-packages (from tensorflow==2.15.0) (18.1.1)\n",
            "Requirement already satisfied: ml-dtypes~=0.2.0 in /usr/local/lib/python3.10/dist-packages (from tensorflow==2.15.0) (0.2.0)\n",
            "Requirement already satisfied: numpy<2.0.0,>=1.23.5 in /usr/local/lib/python3.10/dist-packages (from tensorflow==2.15.0) (1.25.2)\n",
            "Requirement already satisfied: opt-einsum>=2.3.2 in /usr/local/lib/python3.10/dist-packages (from tensorflow==2.15.0) (3.3.0)\n",
            "Requirement already satisfied: packaging in /usr/local/lib/python3.10/dist-packages (from tensorflow==2.15.0) (24.1)\n",
            "Requirement already satisfied: protobuf!=4.21.0,!=4.21.1,!=4.21.2,!=4.21.3,!=4.21.4,!=4.21.5,<5.0.0dev,>=3.20.3 in /usr/local/lib/python3.10/dist-packages (from tensorflow==2.15.0) (3.20.3)\n",
            "Requirement already satisfied: setuptools in /usr/local/lib/python3.10/dist-packages (from tensorflow==2.15.0) (67.7.2)\n",
            "Requirement already satisfied: six>=1.12.0 in /usr/local/lib/python3.10/dist-packages (from tensorflow==2.15.0) (1.16.0)\n",
            "Requirement already satisfied: termcolor>=1.1.0 in /usr/local/lib/python3.10/dist-packages (from tensorflow==2.15.0) (2.4.0)\n",
            "Requirement already satisfied: typing-extensions>=3.6.6 in /usr/local/lib/python3.10/dist-packages (from tensorflow==2.15.0) (4.12.2)\n",
            "Requirement already satisfied: wrapt<1.15,>=1.11.0 in /usr/local/lib/python3.10/dist-packages (from tensorflow==2.15.0) (1.14.1)\n",
            "Requirement already satisfied: tensorflow-io-gcs-filesystem>=0.23.1 in /usr/local/lib/python3.10/dist-packages (from tensorflow==2.15.0) (0.37.0)\n",
            "Requirement already satisfied: grpcio<2.0,>=1.24.3 in /usr/local/lib/python3.10/dist-packages (from tensorflow==2.15.0) (1.64.1)\n",
            "Requirement already satisfied: tensorboard<2.16,>=2.15 in /usr/local/lib/python3.10/dist-packages (from tensorflow==2.15.0) (2.15.2)\n",
            "Requirement already satisfied: tensorflow-estimator<2.16,>=2.15.0 in /usr/local/lib/python3.10/dist-packages (from tensorflow==2.15.0) (2.15.0)\n",
            "Requirement already satisfied: keras<2.16,>=2.15.0 in /usr/local/lib/python3.10/dist-packages (from tensorflow==2.15.0) (2.15.0)\n",
            "Requirement already satisfied: wheel<1.0,>=0.23.0 in /usr/local/lib/python3.10/dist-packages (from astunparse>=1.6.0->tensorflow==2.15.0) (0.43.0)\n",
            "Requirement already satisfied: google-auth<3,>=1.6.3 in /usr/local/lib/python3.10/dist-packages (from tensorboard<2.16,>=2.15->tensorflow==2.15.0) (2.27.0)\n",
            "Requirement already satisfied: google-auth-oauthlib<2,>=0.5 in /usr/local/lib/python3.10/dist-packages (from tensorboard<2.16,>=2.15->tensorflow==2.15.0) (1.2.0)\n",
            "Requirement already satisfied: markdown>=2.6.8 in /usr/local/lib/python3.10/dist-packages (from tensorboard<2.16,>=2.15->tensorflow==2.15.0) (3.6)\n",
            "Requirement already satisfied: requests<3,>=2.21.0 in /usr/local/lib/python3.10/dist-packages (from tensorboard<2.16,>=2.15->tensorflow==2.15.0) (2.31.0)\n",
            "Requirement already satisfied: tensorboard-data-server<0.8.0,>=0.7.0 in /usr/local/lib/python3.10/dist-packages (from tensorboard<2.16,>=2.15->tensorflow==2.15.0) (0.7.2)\n",
            "Requirement already satisfied: werkzeug>=1.0.1 in /usr/local/lib/python3.10/dist-packages (from tensorboard<2.16,>=2.15->tensorflow==2.15.0) (3.0.3)\n",
            "Requirement already satisfied: cachetools<6.0,>=2.0.0 in /usr/local/lib/python3.10/dist-packages (from google-auth<3,>=1.6.3->tensorboard<2.16,>=2.15->tensorflow==2.15.0) (5.3.3)\n",
            "Requirement already satisfied: pyasn1-modules>=0.2.1 in /usr/local/lib/python3.10/dist-packages (from google-auth<3,>=1.6.3->tensorboard<2.16,>=2.15->tensorflow==2.15.0) (0.4.0)\n",
            "Requirement already satisfied: rsa<5,>=3.1.4 in /usr/local/lib/python3.10/dist-packages (from google-auth<3,>=1.6.3->tensorboard<2.16,>=2.15->tensorflow==2.15.0) (4.9)\n",
            "Requirement already satisfied: requests-oauthlib>=0.7.0 in /usr/local/lib/python3.10/dist-packages (from google-auth-oauthlib<2,>=0.5->tensorboard<2.16,>=2.15->tensorflow==2.15.0) (1.3.1)\n",
            "Requirement already satisfied: charset-normalizer<4,>=2 in /usr/local/lib/python3.10/dist-packages (from requests<3,>=2.21.0->tensorboard<2.16,>=2.15->tensorflow==2.15.0) (3.3.2)\n",
            "Requirement already satisfied: idna<4,>=2.5 in /usr/local/lib/python3.10/dist-packages (from requests<3,>=2.21.0->tensorboard<2.16,>=2.15->tensorflow==2.15.0) (3.7)\n",
            "Requirement already satisfied: urllib3<3,>=1.21.1 in /usr/local/lib/python3.10/dist-packages (from requests<3,>=2.21.0->tensorboard<2.16,>=2.15->tensorflow==2.15.0) (2.0.7)\n",
            "Requirement already satisfied: certifi>=2017.4.17 in /usr/local/lib/python3.10/dist-packages (from requests<3,>=2.21.0->tensorboard<2.16,>=2.15->tensorflow==2.15.0) (2024.6.2)\n",
            "Requirement already satisfied: MarkupSafe>=2.1.1 in /usr/local/lib/python3.10/dist-packages (from werkzeug>=1.0.1->tensorboard<2.16,>=2.15->tensorflow==2.15.0) (2.1.5)\n",
            "Requirement already satisfied: pyasn1<0.7.0,>=0.4.6 in /usr/local/lib/python3.10/dist-packages (from pyasn1-modules>=0.2.1->google-auth<3,>=1.6.3->tensorboard<2.16,>=2.15->tensorflow==2.15.0) (0.6.0)\n",
            "Requirement already satisfied: oauthlib>=3.0.0 in /usr/local/lib/python3.10/dist-packages (from requests-oauthlib>=0.7.0->google-auth-oauthlib<2,>=0.5->tensorboard<2.16,>=2.15->tensorflow==2.15.0) (3.2.2)\n",
            "2.15.0\n"
          ]
        }
      ],
      "source": [
        "!pip install tensorflow==2.15.0\n",
        "import tensorflow as tf\n",
        "print(tf.__version__)"
      ]
    },
    {
      "cell_type": "code",
      "execution_count": 2,
      "metadata": {
        "colab": {
          "base_uri": "https://localhost:8080/"
        },
        "id": "BUOlr0iz83e5",
        "outputId": "ee4302f1-be66-445d-e16d-4d12bd207139"
      },
      "outputs": [
        {
          "name": "stdout",
          "output_type": "stream",
          "text": [
            "Requirement already satisfied: kaggle in /usr/local/lib/python3.10/dist-packages (1.6.14)\n",
            "Requirement already satisfied: six>=1.10 in /usr/local/lib/python3.10/dist-packages (from kaggle) (1.16.0)\n",
            "Requirement already satisfied: certifi>=2023.7.22 in /usr/local/lib/python3.10/dist-packages (from kaggle) (2024.6.2)\n",
            "Requirement already satisfied: python-dateutil in /usr/local/lib/python3.10/dist-packages (from kaggle) (2.8.2)\n",
            "Requirement already satisfied: requests in /usr/local/lib/python3.10/dist-packages (from kaggle) (2.31.0)\n",
            "Requirement already satisfied: tqdm in /usr/local/lib/python3.10/dist-packages (from kaggle) (4.66.4)\n",
            "Requirement already satisfied: python-slugify in /usr/local/lib/python3.10/dist-packages (from kaggle) (8.0.4)\n",
            "Requirement already satisfied: urllib3 in /usr/local/lib/python3.10/dist-packages (from kaggle) (2.0.7)\n",
            "Requirement already satisfied: bleach in /usr/local/lib/python3.10/dist-packages (from kaggle) (6.1.0)\n",
            "Requirement already satisfied: webencodings in /usr/local/lib/python3.10/dist-packages (from bleach->kaggle) (0.5.1)\n",
            "Requirement already satisfied: text-unidecode>=1.3 in /usr/local/lib/python3.10/dist-packages (from python-slugify->kaggle) (1.3)\n",
            "Requirement already satisfied: charset-normalizer<4,>=2 in /usr/local/lib/python3.10/dist-packages (from requests->kaggle) (3.3.2)\n",
            "Requirement already satisfied: idna<4,>=2.5 in /usr/local/lib/python3.10/dist-packages (from requests->kaggle) (3.7)\n"
          ]
        }
      ],
      "source": [
        "!pip install kaggle"
      ]
    },
    {
      "cell_type": "code",
      "execution_count": 3,
      "metadata": {
        "colab": {
          "base_uri": "https://localhost:8080/",
          "height": 90
        },
        "id": "zU6Wf2BA6o-S",
        "outputId": "2d257c03-ea8d-4624-ef66-4bc676d1ec7b"
      },
      "outputs": [
        {
          "data": {
            "text/html": [
              "\n",
              "     <input type=\"file\" id=\"files-a7dd68e5-8450-4af3-9749-328bbb44a9d0\" name=\"files[]\" multiple disabled\n",
              "        style=\"border:none\" />\n",
              "     <output id=\"result-a7dd68e5-8450-4af3-9749-328bbb44a9d0\">\n",
              "      Upload widget is only available when the cell has been executed in the\n",
              "      current browser session. Please rerun this cell to enable.\n",
              "      </output>\n",
              "      <script>// Copyright 2017 Google LLC\n",
              "//\n",
              "// Licensed under the Apache License, Version 2.0 (the \"License\");\n",
              "// you may not use this file except in compliance with the License.\n",
              "// You may obtain a copy of the License at\n",
              "//\n",
              "//      http://www.apache.org/licenses/LICENSE-2.0\n",
              "//\n",
              "// Unless required by applicable law or agreed to in writing, software\n",
              "// distributed under the License is distributed on an \"AS IS\" BASIS,\n",
              "// WITHOUT WARRANTIES OR CONDITIONS OF ANY KIND, either express or implied.\n",
              "// See the License for the specific language governing permissions and\n",
              "// limitations under the License.\n",
              "\n",
              "/**\n",
              " * @fileoverview Helpers for google.colab Python module.\n",
              " */\n",
              "(function(scope) {\n",
              "function span(text, styleAttributes = {}) {\n",
              "  const element = document.createElement('span');\n",
              "  element.textContent = text;\n",
              "  for (const key of Object.keys(styleAttributes)) {\n",
              "    element.style[key] = styleAttributes[key];\n",
              "  }\n",
              "  return element;\n",
              "}\n",
              "\n",
              "// Max number of bytes which will be uploaded at a time.\n",
              "const MAX_PAYLOAD_SIZE = 100 * 1024;\n",
              "\n",
              "function _uploadFiles(inputId, outputId) {\n",
              "  const steps = uploadFilesStep(inputId, outputId);\n",
              "  const outputElement = document.getElementById(outputId);\n",
              "  // Cache steps on the outputElement to make it available for the next call\n",
              "  // to uploadFilesContinue from Python.\n",
              "  outputElement.steps = steps;\n",
              "\n",
              "  return _uploadFilesContinue(outputId);\n",
              "}\n",
              "\n",
              "// This is roughly an async generator (not supported in the browser yet),\n",
              "// where there are multiple asynchronous steps and the Python side is going\n",
              "// to poll for completion of each step.\n",
              "// This uses a Promise to block the python side on completion of each step,\n",
              "// then passes the result of the previous step as the input to the next step.\n",
              "function _uploadFilesContinue(outputId) {\n",
              "  const outputElement = document.getElementById(outputId);\n",
              "  const steps = outputElement.steps;\n",
              "\n",
              "  const next = steps.next(outputElement.lastPromiseValue);\n",
              "  return Promise.resolve(next.value.promise).then((value) => {\n",
              "    // Cache the last promise value to make it available to the next\n",
              "    // step of the generator.\n",
              "    outputElement.lastPromiseValue = value;\n",
              "    return next.value.response;\n",
              "  });\n",
              "}\n",
              "\n",
              "/**\n",
              " * Generator function which is called between each async step of the upload\n",
              " * process.\n",
              " * @param {string} inputId Element ID of the input file picker element.\n",
              " * @param {string} outputId Element ID of the output display.\n",
              " * @return {!Iterable<!Object>} Iterable of next steps.\n",
              " */\n",
              "function* uploadFilesStep(inputId, outputId) {\n",
              "  const inputElement = document.getElementById(inputId);\n",
              "  inputElement.disabled = false;\n",
              "\n",
              "  const outputElement = document.getElementById(outputId);\n",
              "  outputElement.innerHTML = '';\n",
              "\n",
              "  const pickedPromise = new Promise((resolve) => {\n",
              "    inputElement.addEventListener('change', (e) => {\n",
              "      resolve(e.target.files);\n",
              "    });\n",
              "  });\n",
              "\n",
              "  const cancel = document.createElement('button');\n",
              "  inputElement.parentElement.appendChild(cancel);\n",
              "  cancel.textContent = 'Cancel upload';\n",
              "  const cancelPromise = new Promise((resolve) => {\n",
              "    cancel.onclick = () => {\n",
              "      resolve(null);\n",
              "    };\n",
              "  });\n",
              "\n",
              "  // Wait for the user to pick the files.\n",
              "  const files = yield {\n",
              "    promise: Promise.race([pickedPromise, cancelPromise]),\n",
              "    response: {\n",
              "      action: 'starting',\n",
              "    }\n",
              "  };\n",
              "\n",
              "  cancel.remove();\n",
              "\n",
              "  // Disable the input element since further picks are not allowed.\n",
              "  inputElement.disabled = true;\n",
              "\n",
              "  if (!files) {\n",
              "    return {\n",
              "      response: {\n",
              "        action: 'complete',\n",
              "      }\n",
              "    };\n",
              "  }\n",
              "\n",
              "  for (const file of files) {\n",
              "    const li = document.createElement('li');\n",
              "    li.append(span(file.name, {fontWeight: 'bold'}));\n",
              "    li.append(span(\n",
              "        `(${file.type || 'n/a'}) - ${file.size} bytes, ` +\n",
              "        `last modified: ${\n",
              "            file.lastModifiedDate ? file.lastModifiedDate.toLocaleDateString() :\n",
              "                                    'n/a'} - `));\n",
              "    const percent = span('0% done');\n",
              "    li.appendChild(percent);\n",
              "\n",
              "    outputElement.appendChild(li);\n",
              "\n",
              "    const fileDataPromise = new Promise((resolve) => {\n",
              "      const reader = new FileReader();\n",
              "      reader.onload = (e) => {\n",
              "        resolve(e.target.result);\n",
              "      };\n",
              "      reader.readAsArrayBuffer(file);\n",
              "    });\n",
              "    // Wait for the data to be ready.\n",
              "    let fileData = yield {\n",
              "      promise: fileDataPromise,\n",
              "      response: {\n",
              "        action: 'continue',\n",
              "      }\n",
              "    };\n",
              "\n",
              "    // Use a chunked sending to avoid message size limits. See b/62115660.\n",
              "    let position = 0;\n",
              "    do {\n",
              "      const length = Math.min(fileData.byteLength - position, MAX_PAYLOAD_SIZE);\n",
              "      const chunk = new Uint8Array(fileData, position, length);\n",
              "      position += length;\n",
              "\n",
              "      const base64 = btoa(String.fromCharCode.apply(null, chunk));\n",
              "      yield {\n",
              "        response: {\n",
              "          action: 'append',\n",
              "          file: file.name,\n",
              "          data: base64,\n",
              "        },\n",
              "      };\n",
              "\n",
              "      let percentDone = fileData.byteLength === 0 ?\n",
              "          100 :\n",
              "          Math.round((position / fileData.byteLength) * 100);\n",
              "      percent.textContent = `${percentDone}% done`;\n",
              "\n",
              "    } while (position < fileData.byteLength);\n",
              "  }\n",
              "\n",
              "  // All done.\n",
              "  yield {\n",
              "    response: {\n",
              "      action: 'complete',\n",
              "    }\n",
              "  };\n",
              "}\n",
              "\n",
              "scope.google = scope.google || {};\n",
              "scope.google.colab = scope.google.colab || {};\n",
              "scope.google.colab._files = {\n",
              "  _uploadFiles,\n",
              "  _uploadFilesContinue,\n",
              "};\n",
              "})(self);\n",
              "</script> "
            ],
            "text/plain": [
              "<IPython.core.display.HTML object>"
            ]
          },
          "metadata": {},
          "output_type": "display_data"
        },
        {
          "name": "stdout",
          "output_type": "stream",
          "text": [
            "Saving kaggle.json to kaggle.json\n"
          ]
        },
        {
          "data": {
            "text/plain": [
              "{'kaggle.json': b'{\"username\":\"tsabitaputri\",\"key\":\"9db4086319270a2abe487151ae2956a9\"}'}"
            ]
          },
          "execution_count": 3,
          "metadata": {},
          "output_type": "execute_result"
        }
      ],
      "source": [
        "from google.colab import files\n",
        "files.upload()"
      ]
    },
    {
      "cell_type": "code",
      "execution_count": 4,
      "metadata": {
        "id": "tsczA-ha7PAr"
      },
      "outputs": [],
      "source": [
        "!mkdir -p ~/.kaggle\n",
        "!cp kaggle.json ~/.kaggle/\n",
        "!chmod 600 /root/.kaggle/kaggle.json"
      ]
    },
    {
      "cell_type": "code",
      "execution_count": 5,
      "metadata": {
        "colab": {
          "base_uri": "https://localhost:8080/"
        },
        "id": "WjaF48kv7Q1-",
        "outputId": "43d8cc15-dce0-4257-de0e-5f4413e56403"
      },
      "outputs": [
        {
          "name": "stdout",
          "output_type": "stream",
          "text": [
            "Dataset URL: https://www.kaggle.com/datasets/nibinv23/iam-handwriting-word-database\n",
            "License(s): unknown\n",
            "Downloading iam-handwriting-word-database.zip to /content\n",
            "100% 1.10G/1.10G [01:06<00:00, 20.4MB/s]\n",
            "100% 1.10G/1.10G [01:06<00:00, 17.8MB/s]\n"
          ]
        }
      ],
      "source": [
        "!kaggle datasets download -d nibinv23/iam-handwriting-word-database"
      ]
    },
    {
      "cell_type": "code",
      "execution_count": 6,
      "metadata": {
        "colab": {
          "base_uri": "https://localhost:8080/"
        },
        "id": "xGhR8Xtm53Ci",
        "outputId": "14ebee11-0b24-4e8b-af7b-4ed8c9548618"
      },
      "outputs": [
        {
          "name": "stdout",
          "output_type": "stream",
          "text": [
            "Extraction Completed\n"
          ]
        }
      ],
      "source": [
        "from zipfile import ZipFile\n",
        "file_name = \"iam-handwriting-word-database.zip\"\n",
        "with ZipFile(file_name,'r') as zip:\n",
        "  zip.extractall()\n",
        "  print('Extraction Completed')"
      ]
    },
    {
      "cell_type": "code",
      "execution_count": 7,
      "metadata": {
        "colab": {
          "base_uri": "https://localhost:8080/"
        },
        "id": "j5tF5Q7QBv5o",
        "outputId": "c81065d9-7ee8-4b4c-8b45-e7584648e31e"
      },
      "outputs": [
        {
          "name": "stdout",
          "output_type": "stream",
          "text": [
            "Collecting keras_tqdm\n",
            "  Downloading keras_tqdm-2.0.1-py2.py3-none-any.whl (7.1 kB)\n",
            "Requirement already satisfied: Keras in /usr/local/lib/python3.10/dist-packages (from keras_tqdm) (2.15.0)\n",
            "Requirement already satisfied: tqdm in /usr/local/lib/python3.10/dist-packages (from keras_tqdm) (4.66.4)\n",
            "Installing collected packages: keras_tqdm\n",
            "Successfully installed keras_tqdm-2.0.1\n"
          ]
        }
      ],
      "source": [
        "!pip install keras_tqdm"
      ]
    },
    {
      "cell_type": "code",
      "execution_count": 8,
      "metadata": {
        "id": "WyBpW92f6Ara"
      },
      "outputs": [],
      "source": [
        "import numpy as np\n",
        "import cv2\n",
        "import os\n",
        "import pandas as pd\n",
        "import string\n",
        "import matplotlib.pyplot as plt\n",
        "\n",
        "from google.colab import drive\n",
        "\n",
        "from keras.preprocessing.sequence import pad_sequences\n",
        "\n",
        "from keras.layers import Dense, LSTM, Reshape, BatchNormalization, Input, Conv2D, MaxPool2D, Lambda, Bidirectional\n",
        "from keras.models import Model\n",
        "from keras.activations import relu, sigmoid, softmax\n",
        "import keras.backend as K\n",
        "from keras.utils import to_categorical\n",
        "from keras.callbacks import ModelCheckpoint\n",
        "from keras_tqdm import TQDMNotebookCallback\n",
        "\n",
        "from sklearn.model_selection import train_test_split\n",
        "from sklearn.preprocessing import MinMaxScaler\n",
        "\n",
        "from PIL import Image"
      ]
    },
    {
      "cell_type": "code",
      "execution_count": 9,
      "metadata": {
        "colab": {
          "base_uri": "https://localhost:8080/"
        },
        "id": "kum2txU2Ba4n",
        "outputId": "c3c20fc6-9378-4848-88ac-e3c3f7c00da0"
      },
      "outputs": [
        {
          "name": "stdout",
          "output_type": "stream",
          "text": [
            "2.15.0\n"
          ]
        }
      ],
      "source": [
        "print(tf.__version__)"
      ]
    },
    {
      "cell_type": "code",
      "execution_count": 10,
      "metadata": {
        "colab": {
          "base_uri": "https://localhost:8080/",
          "height": 36
        },
        "id": "Nte5YLv_CAlK",
        "outputId": "97d5f6b7-d171-43dc-f1b5-9df5e7f52933"
      },
      "outputs": [
        {
          "data": {
            "application/vnd.google.colaboratory.intrinsic+json": {
              "type": "string"
            },
            "text/plain": [
              "'#--- words.txt ---------------------------------------------------------------#'"
            ]
          },
          "execution_count": 10,
          "metadata": {},
          "output_type": "execute_result"
        }
      ],
      "source": [
        "with open('/content/iam_words/words.txt') as f:\n",
        "    contents = f.readlines()\n",
        "\n",
        "lines = [line.strip() for line in contents]\n",
        "lines[0]"
      ]
    },
    {
      "cell_type": "code",
      "execution_count": 11,
      "metadata": {
        "colab": {
          "base_uri": "https://localhost:8080/"
        },
        "id": "zWV38XViCCan",
        "outputId": "d9c3dfa9-937e-42e2-9251-29838a1e4bec"
      },
      "outputs": [
        {
          "name": "stdout",
          "output_type": "stream",
          "text": [
            "!\"#&'()*+,-./0123456789:;?ABCDEFGHIJKLMNOPQRSTUVWXYZabcdefghijklmnopqrstuvwxyz 78\n"
          ]
        }
      ],
      "source": [
        "max_label_len = 0\n",
        "\n",
        "char_list = \"!\\\"#&'()*+,-./0123456789:;?ABCDEFGHIJKLMNOPQRSTUVWXYZabcdefghijklmnopqrstuvwxyz\"\n",
        "\n",
        "print(char_list, len(char_list))\n",
        "\n",
        "def encode_to_labels(txt):\n",
        "    dig_lst = []\n",
        "    for index, chara in enumerate(txt):\n",
        "        dig_lst.append(char_list.index(chara))\n",
        "\n",
        "    return dig_lst"
      ]
    },
    {
      "cell_type": "code",
      "execution_count": 12,
      "metadata": {
        "id": "_lHNunn9CMOZ"
      },
      "outputs": [],
      "source": [
        "images = []\n",
        "labels = []\n",
        "original_texts = []\n",
        "\n",
        "RECORDS_COUNT = 10000"
      ]
    },
    {
      "cell_type": "code",
      "execution_count": 13,
      "metadata": {
        "id": "NArwpI7pCOpr"
      },
      "outputs": [],
      "source": [
        "train_images = []\n",
        "train_labels = []\n",
        "train_input_length = []\n",
        "train_label_length = []\n",
        "train_original_text = []\n",
        "\n",
        "valid_images = []\n",
        "valid_labels = []\n",
        "valid_input_length = []\n",
        "valid_label_length = []\n",
        "valid_original_text = []\n",
        "\n",
        "inputs_length = []\n",
        "labels_length = []"
      ]
    },
    {
      "cell_type": "code",
      "execution_count": 14,
      "metadata": {
        "id": "aXbMbbD5CREV"
      },
      "outputs": [],
      "source": [
        "def process_image(img):\n",
        "    \"\"\"\n",
        "    Converts image to shape (32, 128, 1) & normalize\n",
        "    \"\"\"\n",
        "    w, h = img.shape\n",
        "    new_w = 32\n",
        "    new_h = int(h * (new_w / w))\n",
        "    img = cv2.resize(img, (new_h, new_w))\n",
        "    w, h = img.shape\n",
        "\n",
        "    img = img.astype('float32')\n",
        "\n",
        "    if w < 32:\n",
        "        add_zeros = np.full((32 - w, h), 255)\n",
        "        img = np.concatenate((img, add_zeros))\n",
        "        w, h = img.shape\n",
        "\n",
        "    if h < 128:\n",
        "        add_zeros = np.full((w, 128 - h), 255)\n",
        "        img = np.concatenate((img, add_zeros), axis=1)\n",
        "        w, h = img.shape\n",
        "\n",
        "    if h > 128 or w > 32:\n",
        "        dim = (128, 32)\n",
        "        img = cv2.resize(img, dim)\n",
        "\n",
        "    img = cv2.subtract(255, img)\n",
        "    img = np.expand_dims(img, axis=2)\n",
        "    img = img / 255\n",
        "\n",
        "    return img"
      ]
    },
    {
      "cell_type": "markdown",
      "metadata": {
        "id": "77zmid7KHly9"
      },
      "source": [
        "**Generate Train and Validation**\n",
        "\n"
      ]
    },
    {
      "cell_type": "code",
      "execution_count": 15,
      "metadata": {
        "id": "N53aUpgJLQya"
      },
      "outputs": [],
      "source": [
        "for index, line in enumerate(lines):\n",
        "    splits = line.strip().split(' ')\n",
        "    if len(splits) < 9:\n",
        "        continue\n",
        "\n",
        "    status = splits[1]\n",
        "    if status == 'ok':\n",
        "        word_id, word = splits[0], \"\".join(splits[8:])\n",
        "        filepath = f'/content/iam_words/words/{splits[0][:3]}/{splits[0][:7]}/{word_id}.png'\n",
        "        \n",
        "        img = cv2.imread(filepath, cv2.IMREAD_GRAYSCALE)\n",
        "        if img is None:\n",
        "            continue \n",
        "\n",
        "        img = process_image(img)\n",
        "        label = encode_to_labels(word)\n",
        "\n",
        "        images.append(img)\n",
        "        labels.append(label)\n",
        "        original_texts.append(word)\n",
        "\n",
        "        if len(word) > max_label_len:\n",
        "            max_label_len = len(word)"
      ]
    },
    {
      "cell_type": "code",
      "execution_count": 16,
      "metadata": {
        "id": "nKSRvVKCB6x6"
      },
      "outputs": [],
      "source": [
        "# Split the data into training and validation sets (80% training, 20% validation)\n",
        "train_images, valid_images, train_labels, valid_labels, train_original_texts, valid_original_texts = train_test_split(\n",
        "    images, labels, original_texts, test_size=0.2, random_state=42\n",
        ")"
      ]
    },
    {
      "cell_type": "code",
      "execution_count": 17,
      "metadata": {
        "id": "NF3j8XgWB7Nc"
      },
      "outputs": [],
      "source": [
        "# Prepare the input lengths and label lengths\n",
        "train_input_length = [31] * len(train_images)\n",
        "train_label_length = [len(label) for label in train_labels]\n",
        "\n",
        "valid_input_length = [31] * len(valid_images)\n",
        "valid_label_length = [len(label) for label in valid_labels]"
      ]
    },
    {
      "cell_type": "markdown",
      "metadata": {
        "id": "S08OVL07IsRY"
      },
      "source": [
        "**Generate Padded label**"
      ]
    },
    {
      "cell_type": "code",
      "execution_count": 19,
      "metadata": {
        "id": "v_BzXZ-nDzTP"
      },
      "outputs": [],
      "source": [
        "# Generate Padded label\n",
        "train_padded_label = pad_sequences(train_labels, maxlen=max_label_len, padding='post', value=len(char_list))\n",
        "valid_padded_label = pad_sequences(valid_labels, maxlen=max_label_len, padding='post', value=len(char_list))"
      ]
    },
    {
      "cell_type": "code",
      "execution_count": 20,
      "metadata": {
        "colab": {
          "base_uri": "https://localhost:8080/"
        },
        "id": "rPN6audwCnCO",
        "outputId": "718876e1-0a73-46b3-d68f-a7ce8835647a"
      },
      "outputs": [
        {
          "data": {
            "text/plain": [
              "((25344, 19), (6337, 19))"
            ]
          },
          "execution_count": 20,
          "metadata": {},
          "output_type": "execute_result"
        }
      ],
      "source": [
        "train_padded_label.shape, valid_padded_label.shape"
      ]
    },
    {
      "cell_type": "markdown",
      "metadata": {
        "id": "NAfLz0e1I-Ao"
      },
      "source": [
        "**Convert to numpy array.**"
      ]
    },
    {
      "cell_type": "code",
      "execution_count": 21,
      "metadata": {
        "id": "AsGyb8qGCoqb"
      },
      "outputs": [],
      "source": [
        "# Convert to numpy array\n",
        "train_images = np.asarray(train_images)\n",
        "train_input_length = np.asarray(train_input_length)\n",
        "train_label_length = np.asarray(train_label_length)\n",
        "\n",
        "valid_images = np.asarray(valid_images)\n",
        "valid_input_length = np.asarray(valid_input_length)\n",
        "valid_label_length = np.asarray(valid_label_length)"
      ]
    },
    {
      "cell_type": "code",
      "execution_count": 22,
      "metadata": {
        "colab": {
          "base_uri": "https://localhost:8080/"
        },
        "id": "ynka_dx2D05g",
        "outputId": "aa267a7a-f286-4c64-835b-1c958d32de3f"
      },
      "outputs": [
        {
          "data": {
            "text/plain": [
              "(25344, 32, 128, 1)"
            ]
          },
          "execution_count": 22,
          "metadata": {},
          "output_type": "execute_result"
        }
      ],
      "source": [
        "train_images.shape"
      ]
    },
    {
      "cell_type": "markdown",
      "metadata": {
        "id": "UnCUD7YDbbF9"
      },
      "source": [
        "## **Model**\n"
      ]
    },
    {
      "cell_type": "code",
      "execution_count": 23,
      "metadata": {
        "colab": {
          "base_uri": "https://localhost:8080/"
        },
        "id": "8uItRG00dQ_P",
        "outputId": "1188d657-9c38-4bb6-c09a-1984989f17eb"
      },
      "outputs": [
        {
          "name": "stdout",
          "output_type": "stream",
          "text": [
            "Model: \"model_1\"\n",
            "__________________________________________________________________________________________________\n",
            " Layer (type)                Output Shape                 Param #   Connected to                  \n",
            "==================================================================================================\n",
            " input_1 (InputLayer)        [(None, 32, 128, 1)]         0         []                            \n",
            "                                                                                                  \n",
            " conv2d (Conv2D)             (None, 32, 128, 64)          640       ['input_1[0][0]']             \n",
            "                                                                                                  \n",
            " max_pooling2d (MaxPooling2  (None, 16, 64, 64)           0         ['conv2d[0][0]']              \n",
            " D)                                                                                               \n",
            "                                                                                                  \n",
            " conv2d_1 (Conv2D)           (None, 16, 64, 128)          73856     ['max_pooling2d[0][0]']       \n",
            "                                                                                                  \n",
            " max_pooling2d_1 (MaxPoolin  (None, 8, 32, 128)           0         ['conv2d_1[0][0]']            \n",
            " g2D)                                                                                             \n",
            "                                                                                                  \n",
            " conv2d_2 (Conv2D)           (None, 8, 32, 256)           295168    ['max_pooling2d_1[0][0]']     \n",
            "                                                                                                  \n",
            " conv2d_3 (Conv2D)           (None, 8, 32, 256)           590080    ['conv2d_2[0][0]']            \n",
            "                                                                                                  \n",
            " max_pooling2d_2 (MaxPoolin  (None, 4, 32, 256)           0         ['conv2d_3[0][0]']            \n",
            " g2D)                                                                                             \n",
            "                                                                                                  \n",
            " conv2d_4 (Conv2D)           (None, 4, 32, 512)           1180160   ['max_pooling2d_2[0][0]']     \n",
            "                                                                                                  \n",
            " batch_normalization (Batch  (None, 4, 32, 512)           2048      ['conv2d_4[0][0]']            \n",
            " Normalization)                                                                                   \n",
            "                                                                                                  \n",
            " conv2d_5 (Conv2D)           (None, 4, 32, 512)           2359808   ['batch_normalization[0][0]'] \n",
            "                                                                                                  \n",
            " batch_normalization_1 (Bat  (None, 4, 32, 512)           2048      ['conv2d_5[0][0]']            \n",
            " chNormalization)                                                                                 \n",
            "                                                                                                  \n",
            " max_pooling2d_3 (MaxPoolin  (None, 2, 32, 512)           0         ['batch_normalization_1[0][0]'\n",
            " g2D)                                                               ]                             \n",
            "                                                                                                  \n",
            " conv2d_6 (Conv2D)           (None, 1, 31, 512)           1049088   ['max_pooling2d_3[0][0]']     \n",
            "                                                                                                  \n",
            " lambda (Lambda)             (None, 31, 512)              0         ['conv2d_6[0][0]']            \n",
            "                                                                                                  \n",
            " bidirectional (Bidirection  (None, 31, 512)              1574912   ['lambda[0][0]']              \n",
            " al)                                                                                              \n",
            "                                                                                                  \n",
            " bidirectional_1 (Bidirecti  (None, 31, 512)              1574912   ['bidirectional[0][0]']       \n",
            " onal)                                                                                            \n",
            "                                                                                                  \n",
            " dense (Dense)               (None, 31, 79)               40527     ['bidirectional_1[0][0]']     \n",
            "                                                                                                  \n",
            " the_labels (InputLayer)     [(None, 19)]                 0         []                            \n",
            "                                                                                                  \n",
            " input_length (InputLayer)   [(None, 1)]                  0         []                            \n",
            "                                                                                                  \n",
            " label_length (InputLayer)   [(None, 1)]                  0         []                            \n",
            "                                                                                                  \n",
            " ctc (Lambda)                (None, 1)                    0         ['dense[0][0]',               \n",
            "                                                                     'the_labels[0][0]',          \n",
            "                                                                     'input_length[0][0]',        \n",
            "                                                                     'label_length[0][0]']        \n",
            "                                                                                                  \n",
            "==================================================================================================\n",
            "Total params: 8743247 (33.35 MB)\n",
            "Trainable params: 8741199 (33.35 MB)\n",
            "Non-trainable params: 2048 (8.00 KB)\n",
            "__________________________________________________________________________________________________\n"
          ]
        }
      ],
      "source": [
        "# input with shape of height=32 and width=128\n",
        "inputs = Input(shape=(32,128,1))\n",
        "\n",
        "# convolution layer with kernel size (3,3)\n",
        "conv_1 = Conv2D(64, (3,3), activation = 'relu', padding='same')(inputs)\n",
        "# poolig layer with kernel size (2,2)\n",
        "pool_1 = MaxPool2D(pool_size=(2, 2), strides=2)(conv_1)\n",
        "\n",
        "conv_2 = Conv2D(128, (3,3), activation = 'relu', padding='same')(pool_1)\n",
        "pool_2 = MaxPool2D(pool_size=(2, 2), strides=2)(conv_2)\n",
        "\n",
        "conv_3 = Conv2D(256, (3,3), activation = 'relu', padding='same')(pool_2)\n",
        "\n",
        "conv_4 = Conv2D(256, (3,3), activation = 'relu', padding='same')(conv_3)\n",
        "\n",
        "# poolig layer with kernel size (2,1)\n",
        "pool_4 = MaxPool2D(pool_size=(2, 1))(conv_4)\n",
        "\n",
        "conv_5 = Conv2D(512, (3,3), activation = 'relu', padding='same')(pool_4)\n",
        "\n",
        "# Batch normalization layer\n",
        "batch_norm_5 = BatchNormalization()(conv_5)\n",
        "\n",
        "conv_6 = Conv2D(512, (3,3), activation = 'relu', padding='same')(batch_norm_5)\n",
        "batch_norm_6 = BatchNormalization()(conv_6)\n",
        "pool_6 = MaxPool2D(pool_size=(2, 1))(batch_norm_6)\n",
        "\n",
        "conv_7 = Conv2D(512, (2,2), activation = 'relu')(pool_6)\n",
        "\n",
        "squeezed = Lambda(lambda x: K.squeeze(x, 1))(conv_7)\n",
        "\n",
        "# bidirectional LSTM layers with units=128\n",
        "blstm_1 = Bidirectional(LSTM(256, return_sequences=True, dropout = 0.2))(squeezed)\n",
        "blstm_2 = Bidirectional(LSTM(256, return_sequences=True, dropout = 0.2))(blstm_1)\n",
        "\n",
        "outputs = Dense(len(char_list)+1, activation = 'softmax')(blstm_2)\n",
        "\n",
        "# model to be used at test time\n",
        "prediction_model = Model(inputs, outputs)\n",
        "\n",
        "# model to be used at training time\n",
        "the_labels = Input(name='the_labels', shape=[max_label_len], dtype='float32')\n",
        "input_length = Input(name='input_length', shape=[1], dtype='int64')\n",
        "label_length = Input(name='label_length', shape=[1], dtype='int64')\n",
        "\n",
        "def ctc_lambda_func(args):\n",
        "    y_pred, labels, input_length, label_length = args\n",
        "\n",
        "    return K.ctc_batch_cost(labels, y_pred, input_length, label_length)\n",
        "\n",
        "loss_out = Lambda(ctc_lambda_func, output_shape=(1,), name='ctc')([outputs, the_labels, input_length, label_length])\n",
        "\n",
        "train_model = Model(inputs=[inputs, the_labels, input_length, label_length], outputs=loss_out)\n",
        "\n",
        "train_model.summary()"
      ]
    },
    {
      "cell_type": "markdown",
      "metadata": {
        "id": "-rv-E7uqjo6T"
      },
      "source": [
        "## **Train the Model**\n"
      ]
    },
    {
      "cell_type": "code",
      "execution_count": 24,
      "metadata": {
        "id": "C73Y-AkoEABZ"
      },
      "outputs": [],
      "source": [
        "batch_size = 8\n",
        "epochs = 100\n",
        "e = str(epochs)\n",
        "optimizer_name = 'sgd'"
      ]
    },
    {
      "cell_type": "code",
      "execution_count": 25,
      "metadata": {
        "id": "bnYJEaXn0Dwh"
      },
      "outputs": [],
      "source": [
        "# model.compile(loss={'ctc': lambda y_true, y_pred: y_pred}, optimizer = optimizer_name, metrics=['accuracy'])\n",
        "train_model.compile(loss={'ctc': lambda y_true, y_pred: y_pred}, optimizer = optimizer_name, metrics=['accuracy'])\n",
        "\n",
        "checkpoint = ModelCheckpoint(\n",
        "    filepath=\"/content/best_model.h5\",\n",
        "    monitor='val_loss',\n",
        "    verbose=1,\n",
        "    save_best_only=True,\n",
        "    mode='auto'\n",
        ")\n",
        "callbacks_list = [checkpoint]"
      ]
    },
    {
      "cell_type": "code",
      "execution_count": 26,
      "metadata": {
        "colab": {
          "base_uri": "https://localhost:8080/"
        },
        "id": "9jD6NmlJL0i5",
        "outputId": "e3a95b5b-b412-4474-c8e2-d336269e2253"
      },
      "outputs": [
        {
          "name": "stdout",
          "output_type": "stream",
          "text": [
            "Epoch 1/100\n",
            "\n",
            "Epoch 1: val_loss improved from inf to 10.09486, saving model to /content/best_model.h5\n",
            "3168/3168 - 116s - loss: 12.3899 - accuracy: 0.0326 - val_loss: 10.0949 - val_accuracy: 0.0890 - 116s/epoch - 36ms/step\n",
            "Epoch 2/100\n"
          ]
        },
        {
          "name": "stderr",
          "output_type": "stream",
          "text": [
            "/usr/local/lib/python3.10/dist-packages/keras/src/engine/training.py:3103: UserWarning: You are saving your model as an HDF5 file via `model.save()`. This file format is considered legacy. We recommend using instead the native Keras format, e.g. `model.save('my_model.keras')`.\n",
            "  saving_api.save_model(\n"
          ]
        },
        {
          "name": "stdout",
          "output_type": "stream",
          "text": [
            "\n",
            "Epoch 2: val_loss improved from 10.09486 to 5.26635, saving model to /content/best_model.h5\n",
            "3168/3168 - 86s - loss: 7.4540 - accuracy: 0.1488 - val_loss: 5.2664 - val_accuracy: 0.2074 - 86s/epoch - 27ms/step\n",
            "Epoch 3/100\n",
            "\n",
            "Epoch 3: val_loss improved from 5.26635 to 4.04561, saving model to /content/best_model.h5\n",
            "3168/3168 - 88s - loss: 4.2595 - accuracy: 0.2766 - val_loss: 4.0456 - val_accuracy: 0.3191 - 88s/epoch - 28ms/step\n",
            "Epoch 4/100\n",
            "\n",
            "Epoch 4: val_loss improved from 4.04561 to 3.34271, saving model to /content/best_model.h5\n",
            "3168/3168 - 88s - loss: 3.0521 - accuracy: 0.3682 - val_loss: 3.3427 - val_accuracy: 0.3940 - 88s/epoch - 28ms/step\n",
            "Epoch 5/100\n",
            "\n",
            "Epoch 5: val_loss improved from 3.34271 to 2.69581, saving model to /content/best_model.h5\n",
            "3168/3168 - 87s - loss: 2.3744 - accuracy: 0.4426 - val_loss: 2.6958 - val_accuracy: 0.4490 - 87s/epoch - 28ms/step\n",
            "Epoch 6/100\n",
            "\n",
            "Epoch 6: val_loss improved from 2.69581 to 2.55549, saving model to /content/best_model.h5\n",
            "3168/3168 - 87s - loss: 1.8888 - accuracy: 0.5090 - val_loss: 2.5555 - val_accuracy: 0.5141 - 87s/epoch - 28ms/step\n",
            "Epoch 7/100\n",
            "\n",
            "Epoch 7: val_loss improved from 2.55549 to 2.30661, saving model to /content/best_model.h5\n",
            "3168/3168 - 88s - loss: 1.5331 - accuracy: 0.5650 - val_loss: 2.3066 - val_accuracy: 0.5365 - 88s/epoch - 28ms/step\n",
            "Epoch 8/100\n",
            "\n",
            "Epoch 8: val_loss improved from 2.30661 to 2.16092, saving model to /content/best_model.h5\n",
            "3168/3168 - 88s - loss: 1.2352 - accuracy: 0.6207 - val_loss: 2.1609 - val_accuracy: 0.5771 - 88s/epoch - 28ms/step\n",
            "Epoch 9/100\n",
            "\n",
            "Epoch 9: val_loss did not improve from 2.16092\n",
            "3168/3168 - 87s - loss: 0.9862 - accuracy: 0.6669 - val_loss: 2.1791 - val_accuracy: 0.5875 - 87s/epoch - 27ms/step\n",
            "Epoch 10/100\n",
            "\n",
            "Epoch 10: val_loss did not improve from 2.16092\n",
            "3168/3168 - 87s - loss: 0.7736 - accuracy: 0.7198 - val_loss: 2.3005 - val_accuracy: 0.5938 - 87s/epoch - 28ms/step\n",
            "Epoch 11/100\n",
            "\n",
            "Epoch 11: val_loss did not improve from 2.16092\n",
            "3168/3168 - 88s - loss: 0.5948 - accuracy: 0.7662 - val_loss: 2.2816 - val_accuracy: 0.6045 - 88s/epoch - 28ms/step\n",
            "Epoch 12/100\n",
            "\n",
            "Epoch 12: val_loss did not improve from 2.16092\n",
            "3168/3168 - 87s - loss: 0.4990 - accuracy: 0.7964 - val_loss: 2.3165 - val_accuracy: 0.6173 - 87s/epoch - 27ms/step\n",
            "Epoch 13/100\n",
            "\n",
            "Epoch 13: val_loss did not improve from 2.16092\n",
            "3168/3168 - 87s - loss: 0.4001 - accuracy: 0.8321 - val_loss: 2.3721 - val_accuracy: 0.6350 - 87s/epoch - 28ms/step\n",
            "Epoch 14/100\n",
            "\n",
            "Epoch 14: val_loss did not improve from 2.16092\n",
            "3168/3168 - 87s - loss: 0.3082 - accuracy: 0.8647 - val_loss: 2.3501 - val_accuracy: 0.6464 - 87s/epoch - 27ms/step\n",
            "Epoch 15/100\n",
            "\n",
            "Epoch 15: val_loss did not improve from 2.16092\n",
            "3168/3168 - 87s - loss: 0.2439 - accuracy: 0.8929 - val_loss: 2.3938 - val_accuracy: 0.6513 - 87s/epoch - 28ms/step\n",
            "Epoch 16/100\n",
            "\n",
            "Epoch 16: val_loss did not improve from 2.16092\n",
            "3168/3168 - 87s - loss: 0.2119 - accuracy: 0.9045 - val_loss: 2.4054 - val_accuracy: 0.6448 - 87s/epoch - 28ms/step\n",
            "Epoch 17/100\n",
            "\n",
            "Epoch 17: val_loss did not improve from 2.16092\n",
            "3168/3168 - 87s - loss: 0.1607 - accuracy: 0.9270 - val_loss: 2.4285 - val_accuracy: 0.6582 - 87s/epoch - 27ms/step\n",
            "Epoch 18/100\n",
            "\n",
            "Epoch 18: val_loss did not improve from 2.16092\n",
            "3168/3168 - 86s - loss: 0.1313 - accuracy: 0.9427 - val_loss: 2.4936 - val_accuracy: 0.6584 - 86s/epoch - 27ms/step\n",
            "Epoch 19/100\n",
            "\n",
            "Epoch 19: val_loss did not improve from 2.16092\n",
            "3168/3168 - 88s - loss: 0.1115 - accuracy: 0.9514 - val_loss: 2.5252 - val_accuracy: 0.6737 - 88s/epoch - 28ms/step\n",
            "Epoch 20/100\n",
            "\n",
            "Epoch 20: val_loss did not improve from 2.16092\n",
            "3168/3168 - 87s - loss: 0.1119 - accuracy: 0.9511 - val_loss: 2.6204 - val_accuracy: 0.6662 - 87s/epoch - 27ms/step\n",
            "Epoch 21/100\n",
            "\n",
            "Epoch 21: val_loss did not improve from 2.16092\n",
            "3168/3168 - 88s - loss: 0.1012 - accuracy: 0.9578 - val_loss: 2.6081 - val_accuracy: 0.6749 - 88s/epoch - 28ms/step\n",
            "Epoch 22/100\n",
            "\n",
            "Epoch 22: val_loss did not improve from 2.16092\n",
            "3168/3168 - 88s - loss: 0.0829 - accuracy: 0.9650 - val_loss: 2.6042 - val_accuracy: 0.6774 - 88s/epoch - 28ms/step\n",
            "Epoch 23/100\n",
            "\n",
            "Epoch 23: val_loss did not improve from 2.16092\n",
            "3168/3168 - 87s - loss: 0.0714 - accuracy: 0.9714 - val_loss: 2.6313 - val_accuracy: 0.6773 - 87s/epoch - 27ms/step\n",
            "Epoch 24/100\n",
            "\n",
            "Epoch 24: val_loss did not improve from 2.16092\n",
            "3168/3168 - 87s - loss: 0.0603 - accuracy: 0.9774 - val_loss: 2.6300 - val_accuracy: 0.6830 - 87s/epoch - 28ms/step\n",
            "Epoch 25/100\n",
            "\n",
            "Epoch 25: val_loss did not improve from 2.16092\n",
            "3168/3168 - 87s - loss: 0.0587 - accuracy: 0.9787 - val_loss: 2.7686 - val_accuracy: 0.6762 - 87s/epoch - 27ms/step\n",
            "Epoch 26/100\n",
            "\n",
            "Epoch 26: val_loss did not improve from 2.16092\n",
            "3168/3168 - 88s - loss: 0.0555 - accuracy: 0.9790 - val_loss: 2.6565 - val_accuracy: 0.6849 - 88s/epoch - 28ms/step\n",
            "Epoch 27/100\n",
            "\n",
            "Epoch 27: val_loss did not improve from 2.16092\n",
            "3168/3168 - 87s - loss: 0.0424 - accuracy: 0.9848 - val_loss: 2.6938 - val_accuracy: 0.6912 - 87s/epoch - 28ms/step\n",
            "Epoch 28/100\n",
            "\n",
            "Epoch 28: val_loss did not improve from 2.16092\n",
            "3168/3168 - 86s - loss: 0.0395 - accuracy: 0.9862 - val_loss: 2.7054 - val_accuracy: 0.6931 - 86s/epoch - 27ms/step\n",
            "Epoch 29/100\n",
            "\n",
            "Epoch 29: val_loss did not improve from 2.16092\n",
            "3168/3168 - 88s - loss: 0.0292 - accuracy: 0.9913 - val_loss: 2.7269 - val_accuracy: 0.6943 - 88s/epoch - 28ms/step\n",
            "Epoch 30/100\n",
            "\n",
            "Epoch 30: val_loss did not improve from 2.16092\n",
            "3168/3168 - 87s - loss: 0.0205 - accuracy: 0.9944 - val_loss: 2.6774 - val_accuracy: 0.7000 - 87s/epoch - 27ms/step\n",
            "Epoch 31/100\n",
            "\n",
            "Epoch 31: val_loss did not improve from 2.16092\n",
            "3168/3168 - 87s - loss: 0.0155 - accuracy: 0.9961 - val_loss: 2.7234 - val_accuracy: 0.6967 - 87s/epoch - 28ms/step\n",
            "Epoch 32/100\n",
            "\n",
            "Epoch 32: val_loss did not improve from 2.16092\n",
            "3168/3168 - 86s - loss: 0.0136 - accuracy: 0.9971 - val_loss: 2.6941 - val_accuracy: 0.7010 - 86s/epoch - 27ms/step\n",
            "Epoch 33/100\n",
            "\n",
            "Epoch 33: val_loss did not improve from 2.16092\n",
            "3168/3168 - 87s - loss: 0.0106 - accuracy: 0.9978 - val_loss: 2.7188 - val_accuracy: 0.7057 - 87s/epoch - 27ms/step\n",
            "Epoch 34/100\n",
            "\n",
            "Epoch 34: val_loss did not improve from 2.16092\n",
            "3168/3168 - 86s - loss: 0.0087 - accuracy: 0.9985 - val_loss: 2.7263 - val_accuracy: 0.7066 - 86s/epoch - 27ms/step\n",
            "Epoch 35/100\n",
            "\n",
            "Epoch 35: val_loss did not improve from 2.16092\n",
            "3168/3168 - 87s - loss: 0.0089 - accuracy: 0.9983 - val_loss: 2.7887 - val_accuracy: 0.7062 - 87s/epoch - 28ms/step\n",
            "Epoch 36/100\n",
            "\n",
            "Epoch 36: val_loss did not improve from 2.16092\n",
            "3168/3168 - 87s - loss: 0.0070 - accuracy: 0.9987 - val_loss: 2.7718 - val_accuracy: 0.7021 - 87s/epoch - 27ms/step\n",
            "Epoch 37/100\n",
            "\n",
            "Epoch 37: val_loss did not improve from 2.16092\n",
            "3168/3168 - 87s - loss: 0.0068 - accuracy: 0.9989 - val_loss: 2.7828 - val_accuracy: 0.7070 - 87s/epoch - 27ms/step\n",
            "Epoch 38/100\n",
            "\n",
            "Epoch 38: val_loss did not improve from 2.16092\n",
            "3168/3168 - 85s - loss: 0.0066 - accuracy: 0.9991 - val_loss: 2.8146 - val_accuracy: 0.7044 - 85s/epoch - 27ms/step\n",
            "Epoch 39/100\n",
            "\n",
            "Epoch 39: val_loss did not improve from 2.16092\n",
            "3168/3168 - 87s - loss: 0.0057 - accuracy: 0.9992 - val_loss: 2.8000 - val_accuracy: 0.7060 - 87s/epoch - 28ms/step\n",
            "Epoch 40/100\n",
            "\n",
            "Epoch 40: val_loss did not improve from 2.16092\n",
            "3168/3168 - 86s - loss: 0.0063 - accuracy: 0.9989 - val_loss: 2.8333 - val_accuracy: 0.7051 - 86s/epoch - 27ms/step\n",
            "Epoch 41/100\n",
            "\n",
            "Epoch 41: val_loss did not improve from 2.16092\n",
            "3168/3168 - 87s - loss: 0.0063 - accuracy: 0.9990 - val_loss: 2.8295 - val_accuracy: 0.7051 - 87s/epoch - 28ms/step\n",
            "Epoch 42/100\n",
            "\n",
            "Epoch 42: val_loss did not improve from 2.16092\n",
            "3168/3168 - 87s - loss: 0.0057 - accuracy: 0.9991 - val_loss: 2.8173 - val_accuracy: 0.7100 - 87s/epoch - 27ms/step\n",
            "Epoch 43/100\n",
            "\n",
            "Epoch 43: val_loss did not improve from 2.16092\n",
            "3168/3168 - 87s - loss: 0.0050 - accuracy: 0.9993 - val_loss: 2.8436 - val_accuracy: 0.7103 - 87s/epoch - 27ms/step\n",
            "Epoch 44/100\n",
            "\n",
            "Epoch 44: val_loss did not improve from 2.16092\n",
            "3168/3168 - 86s - loss: 0.0045 - accuracy: 0.9994 - val_loss: 2.8501 - val_accuracy: 0.7096 - 86s/epoch - 27ms/step\n",
            "Epoch 45/100\n",
            "\n",
            "Epoch 45: val_loss did not improve from 2.16092\n",
            "3168/3168 - 86s - loss: 0.0045 - accuracy: 0.9994 - val_loss: 2.8640 - val_accuracy: 0.7089 - 86s/epoch - 27ms/step\n",
            "Epoch 46/100\n",
            "\n",
            "Epoch 46: val_loss did not improve from 2.16092\n",
            "3168/3168 - 86s - loss: 0.0043 - accuracy: 0.9994 - val_loss: 2.8451 - val_accuracy: 0.7093 - 86s/epoch - 27ms/step\n",
            "Epoch 47/100\n",
            "\n",
            "Epoch 47: val_loss did not improve from 2.16092\n",
            "3168/3168 - 87s - loss: 0.0044 - accuracy: 0.9995 - val_loss: 2.8656 - val_accuracy: 0.7109 - 87s/epoch - 27ms/step\n",
            "Epoch 48/100\n",
            "\n",
            "Epoch 48: val_loss did not improve from 2.16092\n",
            "3168/3168 - 85s - loss: 0.0039 - accuracy: 0.9996 - val_loss: 2.8742 - val_accuracy: 0.7096 - 85s/epoch - 27ms/step\n",
            "Epoch 49/100\n",
            "\n",
            "Epoch 49: val_loss did not improve from 2.16092\n",
            "3168/3168 - 85s - loss: 0.0039 - accuracy: 0.9995 - val_loss: 2.8627 - val_accuracy: 0.7082 - 85s/epoch - 27ms/step\n",
            "Epoch 50/100\n",
            "\n",
            "Epoch 50: val_loss did not improve from 2.16092\n",
            "3168/3168 - 85s - loss: 0.0036 - accuracy: 0.9996 - val_loss: 2.8914 - val_accuracy: 0.7085 - 85s/epoch - 27ms/step\n",
            "Epoch 51/100\n",
            "\n",
            "Epoch 51: val_loss did not improve from 2.16092\n",
            "3168/3168 - 87s - loss: 0.0036 - accuracy: 0.9995 - val_loss: 2.9244 - val_accuracy: 0.7092 - 87s/epoch - 27ms/step\n",
            "Epoch 52/100\n",
            "\n",
            "Epoch 52: val_loss did not improve from 2.16092\n",
            "3168/3168 - 85s - loss: 0.0035 - accuracy: 0.9996 - val_loss: 2.9144 - val_accuracy: 0.7074 - 85s/epoch - 27ms/step\n",
            "Epoch 53/100\n",
            "\n",
            "Epoch 53: val_loss did not improve from 2.16092\n",
            "3168/3168 - 86s - loss: 0.0037 - accuracy: 0.9995 - val_loss: 2.9185 - val_accuracy: 0.7100 - 86s/epoch - 27ms/step\n",
            "Epoch 54/100\n",
            "\n",
            "Epoch 54: val_loss did not improve from 2.16092\n",
            "3168/3168 - 86s - loss: 0.0037 - accuracy: 0.9996 - val_loss: 2.9124 - val_accuracy: 0.7093 - 86s/epoch - 27ms/step\n",
            "Epoch 55/100\n",
            "\n",
            "Epoch 55: val_loss did not improve from 2.16092\n",
            "3168/3168 - 86s - loss: 0.0034 - accuracy: 0.9995 - val_loss: 2.9193 - val_accuracy: 0.7106 - 86s/epoch - 27ms/step\n",
            "Epoch 56/100\n",
            "\n",
            "Epoch 56: val_loss did not improve from 2.16092\n",
            "3168/3168 - 87s - loss: 0.0034 - accuracy: 0.9996 - val_loss: 2.9103 - val_accuracy: 0.7106 - 87s/epoch - 27ms/step\n",
            "Epoch 57/100\n",
            "\n",
            "Epoch 57: val_loss did not improve from 2.16092\n",
            "3168/3168 - 87s - loss: 0.0033 - accuracy: 0.9996 - val_loss: 2.9043 - val_accuracy: 0.7079 - 87s/epoch - 27ms/step\n",
            "Epoch 58/100\n",
            "\n",
            "Epoch 58: val_loss did not improve from 2.16092\n",
            "3168/3168 - 85s - loss: 0.0033 - accuracy: 0.9996 - val_loss: 2.9266 - val_accuracy: 0.7090 - 85s/epoch - 27ms/step\n",
            "Epoch 59/100\n",
            "\n",
            "Epoch 59: val_loss did not improve from 2.16092\n",
            "3168/3168 - 86s - loss: 0.0033 - accuracy: 0.9996 - val_loss: 2.9242 - val_accuracy: 0.7101 - 86s/epoch - 27ms/step\n",
            "Epoch 60/100\n",
            "\n",
            "Epoch 60: val_loss did not improve from 2.16092\n",
            "3168/3168 - 87s - loss: 0.0030 - accuracy: 0.9997 - val_loss: 2.9305 - val_accuracy: 0.7111 - 87s/epoch - 27ms/step\n",
            "Epoch 61/100\n",
            "\n",
            "Epoch 61: val_loss did not improve from 2.16092\n",
            "3168/3168 - 85s - loss: 0.0032 - accuracy: 0.9996 - val_loss: 2.9433 - val_accuracy: 0.7114 - 85s/epoch - 27ms/step\n",
            "Epoch 62/100\n",
            "\n",
            "Epoch 62: val_loss did not improve from 2.16092\n",
            "3168/3168 - 86s - loss: 0.0030 - accuracy: 0.9996 - val_loss: 2.9451 - val_accuracy: 0.7100 - 86s/epoch - 27ms/step\n",
            "Epoch 63/100\n",
            "\n",
            "Epoch 63: val_loss did not improve from 2.16092\n",
            "3168/3168 - 86s - loss: 0.0031 - accuracy: 0.9996 - val_loss: 2.9373 - val_accuracy: 0.7123 - 86s/epoch - 27ms/step\n",
            "Epoch 64/100\n",
            "\n",
            "Epoch 64: val_loss did not improve from 2.16092\n",
            "3168/3168 - 85s - loss: 0.0030 - accuracy: 0.9996 - val_loss: 2.9471 - val_accuracy: 0.7114 - 85s/epoch - 27ms/step\n",
            "Epoch 65/100\n",
            "\n",
            "Epoch 65: val_loss did not improve from 2.16092\n",
            "3168/3168 - 86s - loss: 0.0029 - accuracy: 0.9996 - val_loss: 2.9565 - val_accuracy: 0.7134 - 86s/epoch - 27ms/step\n",
            "Epoch 66/100\n",
            "\n",
            "Epoch 66: val_loss did not improve from 2.16092\n",
            "3168/3168 - 86s - loss: 0.0027 - accuracy: 0.9996 - val_loss: 2.9576 - val_accuracy: 0.7130 - 86s/epoch - 27ms/step\n",
            "Epoch 67/100\n",
            "\n",
            "Epoch 67: val_loss did not improve from 2.16092\n",
            "3168/3168 - 85s - loss: 0.0029 - accuracy: 0.9996 - val_loss: 2.9778 - val_accuracy: 0.7104 - 85s/epoch - 27ms/step\n",
            "Epoch 68/100\n",
            "\n",
            "Epoch 68: val_loss did not improve from 2.16092\n",
            "3168/3168 - 86s - loss: 0.0029 - accuracy: 0.9996 - val_loss: 2.9754 - val_accuracy: 0.7114 - 86s/epoch - 27ms/step\n",
            "Epoch 69/100\n",
            "\n",
            "Epoch 69: val_loss did not improve from 2.16092\n",
            "3168/3168 - 86s - loss: 0.0028 - accuracy: 0.9996 - val_loss: 2.9676 - val_accuracy: 0.7133 - 86s/epoch - 27ms/step\n",
            "Epoch 70/100\n",
            "\n",
            "Epoch 70: val_loss did not improve from 2.16092\n",
            "3168/3168 - 86s - loss: 0.0031 - accuracy: 0.9995 - val_loss: 2.9576 - val_accuracy: 0.7104 - 86s/epoch - 27ms/step\n",
            "Epoch 71/100\n",
            "\n",
            "Epoch 71: val_loss did not improve from 2.16092\n",
            "3168/3168 - 88s - loss: 0.0028 - accuracy: 0.9996 - val_loss: 2.9944 - val_accuracy: 0.7101 - 88s/epoch - 28ms/step\n",
            "Epoch 72/100\n",
            "\n",
            "Epoch 72: val_loss did not improve from 2.16092\n",
            "3168/3168 - 87s - loss: 0.0028 - accuracy: 0.9997 - val_loss: 2.9839 - val_accuracy: 0.7106 - 87s/epoch - 28ms/step\n",
            "Epoch 73/100\n",
            "\n",
            "Epoch 73: val_loss did not improve from 2.16092\n",
            "3168/3168 - 88s - loss: 0.0028 - accuracy: 0.9997 - val_loss: 2.9855 - val_accuracy: 0.7103 - 88s/epoch - 28ms/step\n",
            "Epoch 74/100\n",
            "\n",
            "Epoch 74: val_loss did not improve from 2.16092\n",
            "3168/3168 - 87s - loss: 0.0027 - accuracy: 0.9996 - val_loss: 2.9882 - val_accuracy: 0.7101 - 87s/epoch - 27ms/step\n",
            "Epoch 75/100\n",
            "\n",
            "Epoch 75: val_loss did not improve from 2.16092\n",
            "3168/3168 - 88s - loss: 0.0025 - accuracy: 0.9997 - val_loss: 2.9945 - val_accuracy: 0.7120 - 88s/epoch - 28ms/step\n",
            "Epoch 76/100\n",
            "\n",
            "Epoch 76: val_loss did not improve from 2.16092\n",
            "3168/3168 - 88s - loss: 0.0027 - accuracy: 0.9996 - val_loss: 2.9959 - val_accuracy: 0.7119 - 88s/epoch - 28ms/step\n",
            "Epoch 77/100\n",
            "\n",
            "Epoch 77: val_loss did not improve from 2.16092\n",
            "3168/3168 - 88s - loss: 0.0027 - accuracy: 0.9996 - val_loss: 3.0000 - val_accuracy: 0.7122 - 88s/epoch - 28ms/step\n",
            "Epoch 78/100\n",
            "\n",
            "Epoch 78: val_loss did not improve from 2.16092\n",
            "3168/3168 - 88s - loss: 0.0026 - accuracy: 0.9996 - val_loss: 2.9997 - val_accuracy: 0.7111 - 88s/epoch - 28ms/step\n",
            "Epoch 79/100\n",
            "\n",
            "Epoch 79: val_loss did not improve from 2.16092\n",
            "3168/3168 - 90s - loss: 0.0026 - accuracy: 0.9996 - val_loss: 3.0125 - val_accuracy: 0.7109 - 90s/epoch - 28ms/step\n",
            "Epoch 80/100\n",
            "\n",
            "Epoch 80: val_loss did not improve from 2.16092\n",
            "3168/3168 - 86s - loss: 0.0026 - accuracy: 0.9996 - val_loss: 3.0134 - val_accuracy: 0.7125 - 86s/epoch - 27ms/step\n",
            "Epoch 81/100\n",
            "\n",
            "Epoch 81: val_loss did not improve from 2.16092\n",
            "3168/3168 - 86s - loss: 0.0026 - accuracy: 0.9996 - val_loss: 3.0140 - val_accuracy: 0.7112 - 86s/epoch - 27ms/step\n",
            "Epoch 82/100\n",
            "\n",
            "Epoch 82: val_loss did not improve from 2.16092\n",
            "3168/3168 - 87s - loss: 0.0025 - accuracy: 0.9996 - val_loss: 3.0134 - val_accuracy: 0.7131 - 87s/epoch - 27ms/step\n",
            "Epoch 83/100\n",
            "\n",
            "Epoch 83: val_loss did not improve from 2.16092\n",
            "3168/3168 - 85s - loss: 0.0026 - accuracy: 0.9997 - val_loss: 3.0210 - val_accuracy: 0.7125 - 85s/epoch - 27ms/step\n",
            "Epoch 84/100\n",
            "\n",
            "Epoch 84: val_loss did not improve from 2.16092\n",
            "3168/3168 - 87s - loss: 0.0025 - accuracy: 0.9997 - val_loss: 3.0253 - val_accuracy: 0.7125 - 87s/epoch - 27ms/step\n",
            "Epoch 85/100\n",
            "\n",
            "Epoch 85: val_loss did not improve from 2.16092\n",
            "3168/3168 - 86s - loss: 0.0024 - accuracy: 0.9997 - val_loss: 3.0256 - val_accuracy: 0.7137 - 86s/epoch - 27ms/step\n",
            "Epoch 86/100\n",
            "\n",
            "Epoch 86: val_loss did not improve from 2.16092\n",
            "3168/3168 - 86s - loss: 0.0025 - accuracy: 0.9997 - val_loss: 3.0383 - val_accuracy: 0.7095 - 86s/epoch - 27ms/step\n",
            "Epoch 87/100\n",
            "\n",
            "Epoch 87: val_loss did not improve from 2.16092\n",
            "3168/3168 - 86s - loss: 0.0025 - accuracy: 0.9996 - val_loss: 3.0272 - val_accuracy: 0.7130 - 86s/epoch - 27ms/step\n",
            "Epoch 88/100\n",
            "\n",
            "Epoch 88: val_loss did not improve from 2.16092\n",
            "3168/3168 - 86s - loss: 0.0024 - accuracy: 0.9996 - val_loss: 3.0364 - val_accuracy: 0.7123 - 86s/epoch - 27ms/step\n",
            "Epoch 89/100\n",
            "\n",
            "Epoch 89: val_loss did not improve from 2.16092\n",
            "3168/3168 - 86s - loss: 0.0024 - accuracy: 0.9997 - val_loss: 3.0375 - val_accuracy: 0.7112 - 86s/epoch - 27ms/step\n",
            "Epoch 90/100\n",
            "\n",
            "Epoch 90: val_loss did not improve from 2.16092\n",
            "3168/3168 - 86s - loss: 0.0024 - accuracy: 0.9996 - val_loss: 3.0375 - val_accuracy: 0.7136 - 86s/epoch - 27ms/step\n",
            "Epoch 91/100\n",
            "\n",
            "Epoch 91: val_loss did not improve from 2.16092\n",
            "3168/3168 - 86s - loss: 0.0025 - accuracy: 0.9996 - val_loss: 3.0486 - val_accuracy: 0.7122 - 86s/epoch - 27ms/step\n",
            "Epoch 92/100\n",
            "\n",
            "Epoch 92: val_loss did not improve from 2.16092\n",
            "3168/3168 - 86s - loss: 0.0023 - accuracy: 0.9996 - val_loss: 3.0517 - val_accuracy: 0.7117 - 86s/epoch - 27ms/step\n",
            "Epoch 93/100\n",
            "\n",
            "Epoch 93: val_loss did not improve from 2.16092\n",
            "3168/3168 - 86s - loss: 0.0024 - accuracy: 0.9996 - val_loss: 3.0501 - val_accuracy: 0.7114 - 86s/epoch - 27ms/step\n",
            "Epoch 94/100\n",
            "\n",
            "Epoch 94: val_loss did not improve from 2.16092\n",
            "3168/3168 - 87s - loss: 0.0024 - accuracy: 0.9996 - val_loss: 3.0506 - val_accuracy: 0.7093 - 87s/epoch - 27ms/step\n",
            "Epoch 95/100\n",
            "\n",
            "Epoch 95: val_loss did not improve from 2.16092\n",
            "3168/3168 - 86s - loss: 0.0024 - accuracy: 0.9997 - val_loss: 3.0543 - val_accuracy: 0.7104 - 86s/epoch - 27ms/step\n",
            "Epoch 96/100\n",
            "\n",
            "Epoch 96: val_loss did not improve from 2.16092\n",
            "3168/3168 - 86s - loss: 0.0024 - accuracy: 0.9996 - val_loss: 3.0571 - val_accuracy: 0.7106 - 86s/epoch - 27ms/step\n",
            "Epoch 97/100\n",
            "\n",
            "Epoch 97: val_loss did not improve from 2.16092\n",
            "3168/3168 - 86s - loss: 0.0023 - accuracy: 0.9996 - val_loss: 3.0579 - val_accuracy: 0.7100 - 86s/epoch - 27ms/step\n",
            "Epoch 98/100\n",
            "\n",
            "Epoch 98: val_loss did not improve from 2.16092\n",
            "3168/3168 - 86s - loss: 0.0024 - accuracy: 0.9996 - val_loss: 3.0639 - val_accuracy: 0.7101 - 86s/epoch - 27ms/step\n",
            "Epoch 99/100\n",
            "\n",
            "Epoch 99: val_loss did not improve from 2.16092\n",
            "3168/3168 - 86s - loss: 0.0024 - accuracy: 0.9996 - val_loss: 3.0663 - val_accuracy: 0.7093 - 86s/epoch - 27ms/step\n",
            "Epoch 100/100\n",
            "\n",
            "Epoch 100: val_loss did not improve from 2.16092\n",
            "3168/3168 - 87s - loss: 0.0024 - accuracy: 0.9996 - val_loss: 3.0576 - val_accuracy: 0.7117 - 87s/epoch - 27ms/step\n"
          ]
        }
      ],
      "source": [
        "# Training the model\n",
        "history = train_model.fit(\n",
        "    x=[train_images, train_padded_label, train_input_length, train_label_length],\n",
        "    y=np.zeros(len(train_images)),\n",
        "    batch_size=batch_size,\n",
        "    epochs=epochs,\n",
        "    validation_data=([valid_images, valid_padded_label, valid_input_length, valid_label_length], np.zeros(len(valid_images))),\n",
        "    verbose=2,\n",
        "    callbacks=callbacks_list\n",
        ")"
      ]
    },
    {
      "cell_type": "markdown",
      "metadata": {
        "id": "YYYcvo6wj79W"
      },
      "source": [
        "## **Test the Model**\n"
      ]
    },
    {
      "cell_type": "markdown",
      "metadata": {
        "id": "GGsA9TxrK6eY"
      },
      "source": [
        "**Prediction.**"
      ]
    },
    {
      "cell_type": "code",
      "execution_count": 27,
      "metadata": {
        "colab": {
          "base_uri": "https://localhost:8080/",
          "height": 1000
        },
        "id": "x6z1tsuyFFLH",
        "outputId": "11c0bce5-46d5-49f3-f862-dca8895b7891"
      },
      "outputs": [
        {
          "name": "stderr",
          "output_type": "stream",
          "text": [
            "WARNING:tensorflow:Compiled the loaded model, but the compiled metrics have yet to be built. `model.compile_metrics` will be empty until you train or evaluate the model.\n"
          ]
        },
        {
          "name": "stdout",
          "output_type": "stream",
          "text": [
            "199/199 [==============================] - 5s 13ms/step\n",
            "Original text: AN\n",
            "Predicted text: AN\n"
          ]
        },
        {
          "data": {
            "image/png": "[encoded data removed]",
            "text/plain": [
              "<Figure size 640x480 with 1 Axes>"
            ]
          },
          "metadata": {},
          "output_type": "display_data"
        },
        {
          "name": "stdout",
          "output_type": "stream",
          "text": [
            "Original text: who\n",
            "Predicted text: who\n"
          ]
        },
        {
          "data": {
            "image/png": "[encoded data removed]",
            "text/plain": [
              "<Figure size 640x480 with 1 Axes>"
            ]
          },
          "metadata": {},
          "output_type": "display_data"
        },
        {
          "name": "stdout",
          "output_type": "stream",
          "text": [
            "Original text: the\n",
            "Predicted text: the\n"
          ]
        },
        {
          "data": {
            "image/png": "[encoded data removed]",
            "text/plain": [
              "<Figure size 640x480 with 1 Axes>"
            ]
          },
          "metadata": {},
          "output_type": "display_data"
        },
        {
          "name": "stdout",
          "output_type": "stream",
          "text": [
            "Original text: for\n",
            "Predicted text: for\n"
          ]
        },
        {
          "data": {
            "image/png": "[encoded data removed]",
            "text/plain": [
              "<Figure size 640x480 with 1 Axes>"
            ]
          },
          "metadata": {},
          "output_type": "display_data"
        },
        {
          "name": "stdout",
          "output_type": "stream",
          "text": [
            "Original text: preserve\n",
            "Predicted text: psesene\n"
          ]
        },
        {
          "data": {
            "image/png": "[encoded data removed]",
            "text/plain": [
              "<Figure size 640x480 with 1 Axes>"
            ]
          },
          "metadata": {},
          "output_type": "display_data"
        },
        {
          "name": "stdout",
          "output_type": "stream",
          "text": [
            "Original text: also\n",
            "Predicted text: also\n"
          ]
        },
        {
          "data": {
            "image/png": "[encoded data removed]",
            "text/plain": [
              "<Figure size 640x480 with 1 Axes>"
            ]
          },
          "metadata": {},
          "output_type": "display_data"
        },
        {
          "name": "stdout",
          "output_type": "stream",
          "text": [
            "Original text: .\n",
            "Predicted text: .\n"
          ]
        },
        {
          "data": {
            "image/png": "[encoded data removed]",
            "text/plain": [
              "<Figure size 640x480 with 1 Axes>"
            ]
          },
          "metadata": {},
          "output_type": "display_data"
        },
        {
          "name": "stdout",
          "output_type": "stream",
          "text": [
            "Original text: Commons\n",
            "Predicted text: Commons\n"
          ]
        },
        {
          "data": {
            "image/png": "[encoded data removed]",
            "text/plain": [
              "<Figure size 640x480 with 1 Axes>"
            ]
          },
          "metadata": {},
          "output_type": "display_data"
        },
        {
          "name": "stdout",
          "output_type": "stream",
          "text": [
            "Original text: summoned\n",
            "Predicted text: summoned\n"
          ]
        },
        {
          "data": {
            "image/png": "[encoded data removed]",
            "text/plain": [
              "<Figure size 640x480 with 1 Axes>"
            ]
          },
          "metadata": {},
          "output_type": "display_data"
        },
        {
          "name": "stdout",
          "output_type": "stream",
          "text": [
            "Original text: curb\n",
            "Predicted text: curb\n"
          ]
        },
        {
          "data": {
            "image/png": "[encoded data removed]",
            "text/plain": [
              "<Figure size 640x480 with 1 Axes>"
            ]
          },
          "metadata": {},
          "output_type": "display_data"
        },
        {
          "name": "stdout",
          "output_type": "stream",
          "text": [
            "Original text: of\n",
            "Predicted text: of\n"
          ]
        },
        {
          "data": {
            "image/png": "[encoded data removed]",
            "text/plain": [
              "<Figure size 640x480 with 1 Axes>"
            ]
          },
          "metadata": {},
          "output_type": "display_data"
        },
        {
          "name": "stdout",
          "output_type": "stream",
          "text": [
            "Original text: are\n",
            "Predicted text: are\n"
          ]
        },
        {
          "data": {
            "image/png": "[encoded data removed]",
            "text/plain": [
              "<Figure size 640x480 with 1 Axes>"
            ]
          },
          "metadata": {},
          "output_type": "display_data"
        },
        {
          "name": "stdout",
          "output_type": "stream",
          "text": [
            "Original text: to\n",
            "Predicted text: to\n"
          ]
        },
        {
          "data": {
            "image/png": "[encoded data removed]",
            "text/plain": [
              "<Figure size 640x480 with 1 Axes>"
            ]
          },
          "metadata": {},
          "output_type": "display_data"
        },
        {
          "name": "stdout",
          "output_type": "stream",
          "text": [
            "Original text: ,\n",
            "Predicted text: ,\n"
          ]
        },
        {
          "data": {
            "image/png": "[encoded data removed]",
            "text/plain": [
              "<Figure size 640x480 with 1 Axes>"
            ]
          },
          "metadata": {},
          "output_type": "display_data"
        },
        {
          "name": "stdout",
          "output_type": "stream",
          "text": [
            "Original text: part\n",
            "Predicted text: part\n"
          ]
        },
        {
          "data": {
            "image/png": "[encoded data removed]",
            "text/plain": [
              "<Figure size 640x480 with 1 Axes>"
            ]
          },
          "metadata": {},
          "output_type": "display_data"
        },
        {
          "name": "stdout",
          "output_type": "stream",
          "text": [
            "Original text: countries\n",
            "Predicted text: countiles\n"
          ]
        },
        {
          "data": {
            "image/png": "[encoded data removed]",
            "text/plain": [
              "<Figure size 640x480 with 1 Axes>"
            ]
          },
          "metadata": {},
          "output_type": "display_data"
        },
        {
          "name": "stdout",
          "output_type": "stream",
          "text": [
            "Original text: .\n",
            "Predicted text: .\n"
          ]
        },
        {
          "data": {
            "image/png": "[encoded data removed]",
            "text/plain": [
              "<Figure size 640x480 with 1 Axes>"
            ]
          },
          "metadata": {},
          "output_type": "display_data"
        },
        {
          "name": "stdout",
          "output_type": "stream",
          "text": [
            "Original text: the\n",
            "Predicted text: the\n"
          ]
        },
        {
          "data": {
            "image/png": "[encoded data removed]",
            "text/plain": [
              "<Figure size 640x480 with 1 Axes>"
            ]
          },
          "metadata": {},
          "output_type": "display_data"
        },
        {
          "name": "stdout",
          "output_type": "stream",
          "text": [
            "Original text: pharmaceutical\n",
            "Predicted text: pharmacntical\n"
          ]
        },
        {
          "data": {
            "image/png": "[encoded data removed]",
            "text/plain": [
              "<Figure size 640x480 with 1 Axes>"
            ]
          },
          "metadata": {},
          "output_type": "display_data"
        },
        {
          "name": "stdout",
          "output_type": "stream",
          "text": [
            "Original text: designed\n",
            "Predicted text: acrigned\n"
          ]
        },
        {
          "data": {
            "image/png": "[encoded data removed]",
            "text/plain": [
              "<Figure size 640x480 with 1 Axes>"
            ]
          },
          "metadata": {},
          "output_type": "display_data"
        },
        {
          "name": "stdout",
          "output_type": "stream",
          "text": [
            "Original text: Vang\n",
            "Predicted text: bary\n"
          ]
        },
        {
          "data": {
            "image/png": "[encoded data removed]",
            "text/plain": [
              "<Figure size 640x480 with 1 Axes>"
            ]
          },
          "metadata": {},
          "output_type": "display_data"
        },
        {
          "name": "stdout",
          "output_type": "stream",
          "text": [
            "Original text: :\n",
            "Predicted text: :\n"
          ]
        },
        {
          "data": {
            "image/png": "[encoded data removed]",
            "text/plain": [
              "<Figure size 640x480 with 1 Axes>"
            ]
          },
          "metadata": {},
          "output_type": "display_data"
        },
        {
          "name": "stdout",
          "output_type": "stream",
          "text": [
            "Original text: mystery\n",
            "Predicted text: meyetory\n"
          ]
        },
        {
          "data": {
            "image/png": "[encoded data removed]",
            "text/plain": [
              "<Figure size 640x480 with 1 Axes>"
            ]
          },
          "metadata": {},
          "output_type": "display_data"
        },
        {
          "name": "stdout",
          "output_type": "stream",
          "text": [
            "Original text: Like\n",
            "Predicted text: whe\n"
          ]
        },
        {
          "data": {
            "image/png": "[encoded data removed]",
            "text/plain": [
              "<Figure size 640x480 with 1 Axes>"
            ]
          },
          "metadata": {},
          "output_type": "display_data"
        },
        {
          "name": "stdout",
          "output_type": "stream",
          "text": [
            "Original text: is\n",
            "Predicted text: is\n"
          ]
        },
        {
          "data": {
            "image/png": "[encoded data removed]",
            "text/plain": [
              "<Figure size 640x480 with 1 Axes>"
            ]
          },
          "metadata": {},
          "output_type": "display_data"
        }
      ],
      "source": [
        "# Load the best weights into the prediction model\n",
        "prediction_model.load_weights(\"/content/best_model.h5\")\n",
        "\n",
        "# Save the final prediction model\n",
        "prediction_model.save(\"/content/Text-Recognition.h5\")\n",
        "\n",
        "# Predict and decode outputs on validation images\n",
        "prediction = prediction_model.predict(valid_images)\n",
        "decoded = K.ctc_decode(prediction, input_length=np.ones(prediction.shape[0]) * prediction.shape[1], greedy=True)[0][0]\n",
        "out = K.get_value(decoded)\n",
        "\n",
        "max_iterations = 25\n",
        "for i, x in enumerate(out[:25]):\n",
        "    print(\"Original text:\", valid_original_texts[i])\n",
        "    print(\"Predicted text:\", ''.join([char_list[int(p)] for p in x if int(p) != -1]))\n",
        "    plt.imshow(valid_images[i].reshape(32, 128), cmap=plt.cm.gray)\n",
        "    plt.show()"
      ]
    },
    {
      "cell_type": "markdown",
      "metadata": {
        "id": "zyxJWNh1LHZi"
      },
      "source": [
        "## **Plot Accuracy and Loss**"
      ]
    },
    {
      "cell_type": "code",
      "execution_count": null,
      "metadata": {
        "id": "WEP62WO-EkAv"
      },
      "outputs": [],
      "source": [
        "def plotgraph(epochs, acc, val_acc):\n",
        "    # Plot training & validation accuracy values\n",
        "    plt.plot(epochs, acc, 'b')\n",
        "    plt.plot(epochs, val_acc, 'r')\n",
        "    plt.title('Model accuracy')\n",
        "    plt.ylabel('Accuracy')\n",
        "    plt.xlabel('Epoch')\n",
        "    plt.legend(['Train', 'Val'], loc='upper left')\n",
        "    plt.show()"
      ]
    },
    {
      "cell_type": "code",
      "execution_count": 29,
      "metadata": {
        "id": "i-tXSzdGEkHS"
      },
      "outputs": [],
      "source": [
        "acc = history.history['accuracy']\n",
        "val_acc = history.history['val_accuracy']\n",
        "loss = history.history['loss']\n",
        "val_loss = history.history['val_loss']\n",
        "epochs = range(1,len(loss)+1)"
      ]
    },
    {
      "cell_type": "code",
      "execution_count": 30,
      "metadata": {
        "colab": {
          "base_uri": "https://localhost:8080/",
          "height": 472
        },
        "id": "YW5JZQL3EkFr",
        "outputId": "6129b6f3-c21a-42a5-c563-160a5ab5ca34"
      },
      "outputs": [
        {
          "data": {
            "image/png": "[encoded data removed]",
            "text/plain": [
              "<Figure size 640x480 with 1 Axes>"
            ]
          },
          "metadata": {},
          "output_type": "display_data"
        }
      ],
      "source": [
        "plotgraph(epochs, loss, val_loss)"
      ]
    },
    {
      "cell_type": "code",
      "execution_count": 31,
      "metadata": {
        "colab": {
          "base_uri": "https://localhost:8080/",
          "height": 472
        },
        "id": "OEIyoHAoEj-G",
        "outputId": "e321f8cc-5015-4cd9-f390-604da22f1713"
      },
      "outputs": [
        {
          "data": {
            "image/png": "[encoded data removed]",
            "text/plain": [
              "<Figure size 640x480 with 1 Axes>"
            ]
          },
          "metadata": {},
          "output_type": "display_data"
        }
      ],
      "source": [
        "plotgraph(epochs, acc, val_acc)"
      ]
    },
    {
      "cell_type": "markdown",
      "metadata": {
        "id": "Ggv6AUlY4kI2"
      },
      "source": [
        "## **Input testing**"
      ]
    },
    {
      "cell_type": "code",
      "execution_count": 32,
      "metadata": {
        "id": "6jCbW5McthcZ"
      },
      "outputs": [],
      "source": [
        "from google.colab import files\n",
        "from PIL import Image\n",
        "import numpy as np\n",
        "import cv2"
      ]
    },
    {
      "cell_type": "code",
      "execution_count": 33,
      "metadata": {
        "colab": {
          "base_uri": "https://localhost:8080/",
          "height": 73
        },
        "id": "eyF3L834th44",
        "outputId": "827031c2-db7e-4dd2-ac7b-222705b6e11c"
      },
      "outputs": [
        {
          "data": {
            "text/html": [
              "\n",
              "     <input type=\"file\" id=\"files-6f83f39f-5e97-4ddc-b005-91211cbdab51\" name=\"files[]\" multiple disabled\n",
              "        style=\"border:none\" />\n",
              "     <output id=\"result-6f83f39f-5e97-4ddc-b005-91211cbdab51\">\n",
              "      Upload widget is only available when the cell has been executed in the\n",
              "      current browser session. Please rerun this cell to enable.\n",
              "      </output>\n",
              "      <script>// Copyright 2017 Google LLC\n",
              "//\n",
              "// Licensed under the Apache License, Version 2.0 (the \"License\");\n",
              "// you may not use this file except in compliance with the License.\n",
              "// You may obtain a copy of the License at\n",
              "//\n",
              "//      http://www.apache.org/licenses/LICENSE-2.0\n",
              "//\n",
              "// Unless required by applicable law or agreed to in writing, software\n",
              "// distributed under the License is distributed on an \"AS IS\" BASIS,\n",
              "// WITHOUT WARRANTIES OR CONDITIONS OF ANY KIND, either express or implied.\n",
              "// See the License for the specific language governing permissions and\n",
              "// limitations under the License.\n",
              "\n",
              "/**\n",
              " * @fileoverview Helpers for google.colab Python module.\n",
              " */\n",
              "(function(scope) {\n",
              "function span(text, styleAttributes = {}) {\n",
              "  const element = document.createElement('span');\n",
              "  element.textContent = text;\n",
              "  for (const key of Object.keys(styleAttributes)) {\n",
              "    element.style[key] = styleAttributes[key];\n",
              "  }\n",
              "  return element;\n",
              "}\n",
              "\n",
              "// Max number of bytes which will be uploaded at a time.\n",
              "const MAX_PAYLOAD_SIZE = 100 * 1024;\n",
              "\n",
              "function _uploadFiles(inputId, outputId) {\n",
              "  const steps = uploadFilesStep(inputId, outputId);\n",
              "  const outputElement = document.getElementById(outputId);\n",
              "  // Cache steps on the outputElement to make it available for the next call\n",
              "  // to uploadFilesContinue from Python.\n",
              "  outputElement.steps = steps;\n",
              "\n",
              "  return _uploadFilesContinue(outputId);\n",
              "}\n",
              "\n",
              "// This is roughly an async generator (not supported in the browser yet),\n",
              "// where there are multiple asynchronous steps and the Python side is going\n",
              "// to poll for completion of each step.\n",
              "// This uses a Promise to block the python side on completion of each step,\n",
              "// then passes the result of the previous step as the input to the next step.\n",
              "function _uploadFilesContinue(outputId) {\n",
              "  const outputElement = document.getElementById(outputId);\n",
              "  const steps = outputElement.steps;\n",
              "\n",
              "  const next = steps.next(outputElement.lastPromiseValue);\n",
              "  return Promise.resolve(next.value.promise).then((value) => {\n",
              "    // Cache the last promise value to make it available to the next\n",
              "    // step of the generator.\n",
              "    outputElement.lastPromiseValue = value;\n",
              "    return next.value.response;\n",
              "  });\n",
              "}\n",
              "\n",
              "/**\n",
              " * Generator function which is called between each async step of the upload\n",
              " * process.\n",
              " * @param {string} inputId Element ID of the input file picker element.\n",
              " * @param {string} outputId Element ID of the output display.\n",
              " * @return {!Iterable<!Object>} Iterable of next steps.\n",
              " */\n",
              "function* uploadFilesStep(inputId, outputId) {\n",
              "  const inputElement = document.getElementById(inputId);\n",
              "  inputElement.disabled = false;\n",
              "\n",
              "  const outputElement = document.getElementById(outputId);\n",
              "  outputElement.innerHTML = '';\n",
              "\n",
              "  const pickedPromise = new Promise((resolve) => {\n",
              "    inputElement.addEventListener('change', (e) => {\n",
              "      resolve(e.target.files);\n",
              "    });\n",
              "  });\n",
              "\n",
              "  const cancel = document.createElement('button');\n",
              "  inputElement.parentElement.appendChild(cancel);\n",
              "  cancel.textContent = 'Cancel upload';\n",
              "  const cancelPromise = new Promise((resolve) => {\n",
              "    cancel.onclick = () => {\n",
              "      resolve(null);\n",
              "    };\n",
              "  });\n",
              "\n",
              "  // Wait for the user to pick the files.\n",
              "  const files = yield {\n",
              "    promise: Promise.race([pickedPromise, cancelPromise]),\n",
              "    response: {\n",
              "      action: 'starting',\n",
              "    }\n",
              "  };\n",
              "\n",
              "  cancel.remove();\n",
              "\n",
              "  // Disable the input element since further picks are not allowed.\n",
              "  inputElement.disabled = true;\n",
              "\n",
              "  if (!files) {\n",
              "    return {\n",
              "      response: {\n",
              "        action: 'complete',\n",
              "      }\n",
              "    };\n",
              "  }\n",
              "\n",
              "  for (const file of files) {\n",
              "    const li = document.createElement('li');\n",
              "    li.append(span(file.name, {fontWeight: 'bold'}));\n",
              "    li.append(span(\n",
              "        `(${file.type || 'n/a'}) - ${file.size} bytes, ` +\n",
              "        `last modified: ${\n",
              "            file.lastModifiedDate ? file.lastModifiedDate.toLocaleDateString() :\n",
              "                                    'n/a'} - `));\n",
              "    const percent = span('0% done');\n",
              "    li.appendChild(percent);\n",
              "\n",
              "    outputElement.appendChild(li);\n",
              "\n",
              "    const fileDataPromise = new Promise((resolve) => {\n",
              "      const reader = new FileReader();\n",
              "      reader.onload = (e) => {\n",
              "        resolve(e.target.result);\n",
              "      };\n",
              "      reader.readAsArrayBuffer(file);\n",
              "    });\n",
              "    // Wait for the data to be ready.\n",
              "    let fileData = yield {\n",
              "      promise: fileDataPromise,\n",
              "      response: {\n",
              "        action: 'continue',\n",
              "      }\n",
              "    };\n",
              "\n",
              "    // Use a chunked sending to avoid message size limits. See b/62115660.\n",
              "    let position = 0;\n",
              "    do {\n",
              "      const length = Math.min(fileData.byteLength - position, MAX_PAYLOAD_SIZE);\n",
              "      const chunk = new Uint8Array(fileData, position, length);\n",
              "      position += length;\n",
              "\n",
              "      const base64 = btoa(String.fromCharCode.apply(null, chunk));\n",
              "      yield {\n",
              "        response: {\n",
              "          action: 'append',\n",
              "          file: file.name,\n",
              "          data: base64,\n",
              "        },\n",
              "      };\n",
              "\n",
              "      let percentDone = fileData.byteLength === 0 ?\n",
              "          100 :\n",
              "          Math.round((position / fileData.byteLength) * 100);\n",
              "      percent.textContent = `${percentDone}% done`;\n",
              "\n",
              "    } while (position < fileData.byteLength);\n",
              "  }\n",
              "\n",
              "  // All done.\n",
              "  yield {\n",
              "    response: {\n",
              "      action: 'complete',\n",
              "    }\n",
              "  };\n",
              "}\n",
              "\n",
              "scope.google = scope.google || {};\n",
              "scope.google.colab = scope.google.colab || {};\n",
              "scope.google.colab._files = {\n",
              "  _uploadFiles,\n",
              "  _uploadFilesContinue,\n",
              "};\n",
              "})(self);\n",
              "</script> "
            ],
            "text/plain": [
              "<IPython.core.display.HTML object>"
            ]
          },
          "metadata": {},
          "output_type": "display_data"
        },
        {
          "name": "stdout",
          "output_type": "stream",
          "text": [
            "Saving testing9.jpeg to testing9.jpeg\n"
          ]
        }
      ],
      "source": [
        "uploaded = files.upload()"
      ]
    },
    {
      "cell_type": "code",
      "execution_count": null,
      "metadata": {
        "id": "hwTHyjputtwX"
      },
      "outputs": [],
      "source": [
        "image_path = list(uploaded.keys())[0]"
      ]
    },
    {
      "cell_type": "code",
      "execution_count": null,
      "metadata": {
        "id": "GVSOdQVktv8a"
      },
      "outputs": [],
      "source": [
        "image = cv2.imread(image_path, cv2.IMREAD_GRAYSCALE)"
      ]
    },
    {
      "cell_type": "code",
      "execution_count": null,
      "metadata": {
        "id": "2V3UmH4ytx4Z"
      },
      "outputs": [],
      "source": [
        "processed_image = process_image(image)"
      ]
    },
    {
      "cell_type": "code",
      "execution_count": null,
      "metadata": {
        "id": "uQlnRRSktzqE"
      },
      "outputs": [],
      "source": [
        "plt.imshow(processed_image.reshape(32, 128), cmap=plt.cm.gray)\n",
        "plt.axis('off')\n",
        "plt.show()"
      ]
    },
    {
      "cell_type": "code",
      "execution_count": null,
      "metadata": {
        "id": "q9tVuJQ9t1f1"
      },
      "outputs": [],
      "source": [
        "prediction = prediction_model.predict(processed_image.reshape(1, 32, 128, 1))"
      ]
    },
    {
      "cell_type": "code",
      "execution_count": null,
      "metadata": {
        "id": "E71j-i8Xt7tW"
      },
      "outputs": [],
      "source": [
        "decoded = K.ctc_decode(prediction,\n",
        "                       input_length=np.ones(prediction.shape[0]) * prediction.shape[1],\n",
        "                       greedy=True)[0][0]\n",
        "\n",
        "out = K.get_value(decoded)"
      ]
    },
    {
      "cell_type": "code",
      "execution_count": 40,
      "metadata": {
        "colab": {
          "base_uri": "https://localhost:8080/"
        },
        "id": "M9DAs3WXuKx9",
        "outputId": "af249e27-2bd7-499d-a143-ba8e611488e4"
      },
      "outputs": [
        {
          "name": "stdout",
          "output_type": "stream",
          "text": [
            "Predicted text: Anat\n"
          ]
        }
      ],
      "source": [
        "predicted_text = ''\n",
        "for p in out[0]:\n",
        "    if int(p) != -1:\n",
        "        predicted_text += char_list[int(p)]\n",
        "\n",
        "print(\"Predicted text:\", predicted_text)"
      ]
    },
    {
      "cell_type": "markdown",
      "metadata": {
        "id": "Qz9har0TLVUy"
      },
      "source": [
        "\n",
        "## **Get Best Model**"
      ]
    },
    {
      "cell_type": "code",
      "execution_count": 41,
      "metadata": {
        "id": "csKlQLTyEj7v"
      },
      "outputs": [],
      "source": [
        "minimum_val_loss = np.min(history.history['val_loss'])\n",
        "best_model_index = np.where(history.history['val_loss'] == minimum_val_loss)[0][0]\n",
        "\n",
        "best_loss = str(history.history['loss'][best_model_index])\n",
        "best_acc = str(history.history['accuracy'][best_model_index])\n",
        "best_val_loss = str(history.history['val_loss'][best_model_index])\n",
        "best_val_acc = str(history.history['val_accuracy'][best_model_index])"
      ]
    },
    {
      "cell_type": "code",
      "execution_count": 42,
      "metadata": {
        "id": "cIhp0yo3Ej5W"
      },
      "outputs": [],
      "source": [
        "with open('/content/history.txt', 'a') as f:\n",
        "    new_data = '{},{},{},{},{},{},{},{},{},{}\\n'.format(filepath,\n",
        "                                                      optimizer_name,\n",
        "                                                      str(RECORDS_COUNT),\n",
        "                                                      e,\n",
        "                                                      str(train_images.shape[0]),\n",
        "                                                      str(valid_images.shape[0]),\n",
        "                                                      best_loss,\n",
        "                                                      best_acc,\n",
        "                                                      best_val_loss,\n",
        "                                                      best_val_acc)\n",
        "    f.write(new_data)"
      ]
    },
    {
      "cell_type": "markdown",
      "metadata": {
        "id": "YdQpXK5ELb_J"
      },
      "source": [
        "## **Save the Model.**"
      ]
    },
    {
      "cell_type": "code",
      "execution_count": 43,
      "metadata": {
        "id": "a5u3zhA1oZ-x"
      },
      "outputs": [],
      "source": [
        "from google.colab import files"
      ]
    },
    {
      "cell_type": "code",
      "execution_count": 45,
      "metadata": {
        "colab": {
          "base_uri": "https://localhost:8080/",
          "height": 52
        },
        "id": "Xr86kuSAodSD",
        "outputId": "21f2d8a9-b7b1-4f62-dc12-aed6d2570bab"
      },
      "outputs": [
        {
          "data": {
            "application/javascript": "\n    async function download(id, filename, size) {\n      if (!google.colab.kernel.accessAllowed) {\n        return;\n      }\n      const div = document.createElement('div');\n      const label = document.createElement('label');\n      label.textContent = `Downloading \"${filename}\": `;\n      div.appendChild(label);\n      const progress = document.createElement('progress');\n      progress.max = size;\n      div.appendChild(progress);\n      document.body.appendChild(div);\n\n      const buffers = [];\n      let downloaded = 0;\n\n      const channel = await google.colab.kernel.comms.open(id);\n      // Send a message to notify the kernel that we're ready.\n      channel.send({})\n\n      for await (const message of channel.messages) {\n        // Send a message to notify the kernel that we're ready.\n        channel.send({})\n        if (message.buffers) {\n          for (const buffer of message.buffers) {\n            buffers.push(buffer);\n            downloaded += buffer.byteLength;\n            progress.value = downloaded;\n          }\n        }\n      }\n      const blob = new Blob(buffers, {type: 'application/binary'});\n      const a = document.createElement('a');\n      a.href = window.URL.createObjectURL(blob);\n      a.download = filename;\n      div.appendChild(a);\n      a.click();\n      div.remove();\n    }\n  ",
            "text/plain": [
              "<IPython.core.display.Javascript object>"
            ]
          },
          "metadata": {},
          "output_type": "display_data"
        },
        {
          "data": {
            "application/javascript": "download(\"download_ce5813e4-dae1-4861-a89e-0d57b7aff231\", \"Text-Recognition.h5\", 35045032)",
            "text/plain": [
              "<IPython.core.display.Javascript object>"
            ]
          },
          "metadata": {},
          "output_type": "display_data"
        },
        {
          "data": {
            "application/javascript": "\n    async function download(id, filename, size) {\n      if (!google.colab.kernel.accessAllowed) {\n        return;\n      }\n      const div = document.createElement('div');\n      const label = document.createElement('label');\n      label.textContent = `Downloading \"${filename}\": `;\n      div.appendChild(label);\n      const progress = document.createElement('progress');\n      progress.max = size;\n      div.appendChild(progress);\n      document.body.appendChild(div);\n\n      const buffers = [];\n      let downloaded = 0;\n\n      const channel = await google.colab.kernel.comms.open(id);\n      // Send a message to notify the kernel that we're ready.\n      channel.send({})\n\n      for await (const message of channel.messages) {\n        // Send a message to notify the kernel that we're ready.\n        channel.send({})\n        if (message.buffers) {\n          for (const buffer of message.buffers) {\n            buffers.push(buffer);\n            downloaded += buffer.byteLength;\n            progress.value = downloaded;\n          }\n        }\n      }\n      const blob = new Blob(buffers, {type: 'application/binary'});\n      const a = document.createElement('a');\n      a.href = window.URL.createObjectURL(blob);\n      a.download = filename;\n      div.appendChild(a);\n      a.click();\n      div.remove();\n    }\n  ",
            "text/plain": [
              "<IPython.core.display.Javascript object>"
            ]
          },
          "metadata": {},
          "output_type": "display_data"
        },
        {
          "data": {
            "application/javascript": "download(\"download_ce5813e4-dae1-4861-a89e-0d57b7aff231\", \"Text-Recognition.h5\", 35045032)",
            "text/plain": [
              "<IPython.core.display.Javascript object>"
            ]
          },
          "metadata": {},
          "output_type": "display_data"
        }
      ],
      "source": [
        "files.download('/content/Text-Recognition.h5')"
      ]
    }
  ],
  "metadata": {
    "accelerator": "GPU",
    "colab": {
      "gpuType": "T4",
      "provenance": []
    },
    "kernelspec": {
      "display_name": "Python 3",
      "name": "python3"
    }
  },
  "nbformat": 4,
  "nbformat_minor": 0
}
