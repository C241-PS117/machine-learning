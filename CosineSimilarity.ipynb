{
  "nbformat": 4,
  "nbformat_minor": 0,
  "metadata": {
    "colab": {
      "provenance": []
    },
    "kernelspec": {
      "name": "python3",
      "display_name": "Python 3"
    },
    "language_info": {
      "name": "python"
    }
  },
  "cells": [
    {
      "cell_type": "code",
      "source": [
        "import numpy as np\n",
        "from tensorflow.keras.models import Model\n",
        "from tensorflow.keras.layers import Input, Embedding, LSTM, Dense, Bidirectional, Dropout, Lambda\n",
        "from tensorflow.keras.preprocessing.text import Tokenizer\n",
        "from tensorflow.keras.preprocessing.sequence import pad_sequences\n",
        "from tensorflow.keras.models import load_model\n",
        "import tensorflow.keras.backend as K\n",
        "import tensorflow as tf"
      ],
      "metadata": {
        "id": "JfYEbWnTyqIO"
      },
      "execution_count": 103,
      "outputs": []
    },
    {
      "cell_type": "code",
      "source": [
        "# Sample data (replace with real data)\n",
        "manual_abstracts = [\"In the modern technology industry, the utilization of machine learning and natural language processing is increasingly dominant, with applications like facial recognition leveraging machine learning algorithms to understand and interpret users' natural language.\"]\n",
        "keyword_queries = [\"machine learning OR natural language processing\"]"
      ],
      "metadata": {
        "id": "PetbAVobys1J"
      },
      "execution_count": 2,
      "outputs": []
    },
    {
      "cell_type": "code",
      "source": [
        "# Preprocess the data\n",
        "tokenizer = Tokenizer()\n",
        "tokenizer.fit_on_texts(manual_abstracts + keyword_queries)"
      ],
      "metadata": {
        "id": "ghOyLwm3ytVt"
      },
      "execution_count": 3,
      "outputs": []
    },
    {
      "cell_type": "code",
      "source": [
        "max_length = 100  # Define a maximum length for padding sequences"
      ],
      "metadata": {
        "id": "D6hZSSl_yufN"
      },
      "execution_count": 4,
      "outputs": []
    },
    {
      "cell_type": "code",
      "source": [
        "def preprocess_text(text):\n",
        "    tokens = tokenizer.texts_to_sequences([text])\n",
        "    tokens_padded = pad_sequences(tokens, maxlen=max_length, padding='post')\n",
        "    return tokens_padded"
      ],
      "metadata": {
        "id": "xMSgEV3syv3f"
      },
      "execution_count": 5,
      "outputs": []
    },
    {
      "cell_type": "code",
      "source": [
        "manual_abstracts_seq = np.array([preprocess_text(abstract)[0] for abstract in manual_abstracts])\n",
        "keyword_queries_seq = np.array([preprocess_text(query)[0] for query in keyword_queries])"
      ],
      "metadata": {
        "id": "sidJRwPSyyaK"
      },
      "execution_count": 6,
      "outputs": []
    },
    {
      "cell_type": "code",
      "source": [
        "# Create the Siamese network\n",
        "embedding_dim = 50\n",
        "vocab_size = len(tokenizer.word_index) + 1\n",
        "embedding_layer = Embedding(vocab_size, embedding_dim, input_length=max_length)"
      ],
      "metadata": {
        "id": "g-RCFPcpyzHh"
      },
      "execution_count": 43,
      "outputs": []
    },
    {
      "cell_type": "code",
      "source": [
        "# Define the LSTM encoder\n",
        "lstm_layer = LSTM(50)"
      ],
      "metadata": {
        "id": "tG8bo1_7y2My"
      },
      "execution_count": 86,
      "outputs": []
    },
    {
      "cell_type": "code",
      "source": [
        "# Define the input layers\n",
        "input_abstract = Input(shape=(max_length,))\n",
        "input_query = Input(shape=(max_length,))"
      ],
      "metadata": {
        "id": "LVWDGy9hy3df"
      },
      "execution_count": 87,
      "outputs": []
    },
    {
      "cell_type": "code",
      "source": [
        "# Encode the inputs\n",
        "encoded_abstract = lstm_layer(embedding_layer(input_abstract))\n",
        "encoded_query = lstm_layer(embedding_layer(input_query))"
      ],
      "metadata": {
        "id": "XwLyCOA8y5dI"
      },
      "execution_count": 88,
      "outputs": []
    },
    {
      "cell_type": "code",
      "source": [
        "# Compute the similarity as the absolute difference between the encodings\n",
        "similarity = Lambda(lambda x: K.abs(x[0] - x[1]))([encoded_abstract, encoded_query])\n",
        "similarity = Dense(1, activation='sigmoid')(similarity)"
      ],
      "metadata": {
        "id": "Xod01J9Ny66Y"
      },
      "execution_count": 89,
      "outputs": []
    },
    {
      "cell_type": "code",
      "source": [
        "# Define the model\n",
        "model = Model(inputs=[input_abstract, input_query], outputs=similarity)"
      ],
      "metadata": {
        "id": "_AbU0urky9H_"
      },
      "execution_count": 99,
      "outputs": []
    },
    {
      "cell_type": "code",
      "source": [
        "# Compile the model\n",
        "optimizer = tf.keras.optimizers.Adam(learning_rate=0.001)  # Adjust learning rate as needed\n",
        "\n",
        "# Compile the model with the customized optimizer\n",
        "model.compile(optimizer=optimizer, loss='binary_crossentropy', metrics=['accuracy'])\n"
      ],
      "metadata": {
        "id": "0m_WPesVy_oW"
      },
      "execution_count": 100,
      "outputs": []
    },
    {
      "cell_type": "code",
      "source": [
        "# Dummy labels for training (replace with real labels)\n",
        "labels = np.array([1])"
      ],
      "metadata": {
        "id": "9tsyvtaSzBu8"
      },
      "execution_count": 101,
      "outputs": []
    },
    {
      "cell_type": "code",
      "source": [
        "# Train the model with the new labels\n",
        "model.fit([manual_abstracts_seq, keyword_queries_seq], labels, batch_size=16, epochs=100)"
      ],
      "metadata": {
        "colab": {
          "base_uri": "https://localhost:8080/"
        },
        "id": "nIr9GMvRzCMN",
        "outputId": "cfe60468-43a2-4e2f-c781-3adf03c7da7a"
      },
      "execution_count": 102,
      "outputs": [
        {
          "output_type": "stream",
          "name": "stdout",
          "text": [
            "Epoch 1/100\n",
            "1/1 [==============================] - 4s 4s/step - loss: 0.0043 - accuracy: 1.0000\n",
            "Epoch 2/100\n",
            "1/1 [==============================] - 0s 102ms/step - loss: 0.0039 - accuracy: 1.0000\n",
            "Epoch 3/100\n",
            "1/1 [==============================] - 0s 82ms/step - loss: 0.0035 - accuracy: 1.0000\n",
            "Epoch 4/100\n",
            "1/1 [==============================] - 0s 81ms/step - loss: 0.0030 - accuracy: 1.0000\n",
            "Epoch 5/100\n",
            "1/1 [==============================] - 0s 96ms/step - loss: 0.0027 - accuracy: 1.0000\n",
            "Epoch 6/100\n",
            "1/1 [==============================] - 0s 81ms/step - loss: 0.0024 - accuracy: 1.0000\n",
            "Epoch 7/100\n",
            "1/1 [==============================] - 0s 89ms/step - loss: 0.6619 - accuracy: 1.0000\n",
            "Epoch 8/100\n",
            "1/1 [==============================] - 0s 93ms/step - loss: 0.6617 - accuracy: 1.0000\n",
            "Epoch 9/100\n",
            "1/1 [==============================] - 0s 106ms/step - loss: 0.6613 - accuracy: 1.0000\n",
            "Epoch 10/100\n",
            "1/1 [==============================] - 0s 85ms/step - loss: 0.6610 - accuracy: 1.0000\n",
            "Epoch 11/100\n",
            "1/1 [==============================] - 0s 97ms/step - loss: 0.6606 - accuracy: 1.0000\n",
            "Epoch 12/100\n",
            "1/1 [==============================] - 0s 88ms/step - loss: 0.6601 - accuracy: 1.0000\n",
            "Epoch 13/100\n",
            "1/1 [==============================] - 0s 98ms/step - loss: 0.6597 - accuracy: 1.0000\n",
            "Epoch 14/100\n",
            "1/1 [==============================] - 0s 95ms/step - loss: 0.6592 - accuracy: 1.0000\n",
            "Epoch 15/100\n",
            "1/1 [==============================] - 0s 97ms/step - loss: 0.6588 - accuracy: 1.0000\n",
            "Epoch 16/100\n",
            "1/1 [==============================] - 0s 93ms/step - loss: 0.6583 - accuracy: 1.0000\n",
            "Epoch 17/100\n",
            "1/1 [==============================] - 0s 101ms/step - loss: 0.6578 - accuracy: 1.0000\n",
            "Epoch 18/100\n",
            "1/1 [==============================] - 0s 96ms/step - loss: 0.6573 - accuracy: 1.0000\n",
            "Epoch 19/100\n",
            "1/1 [==============================] - 0s 98ms/step - loss: 0.6568 - accuracy: 1.0000\n",
            "Epoch 20/100\n",
            "1/1 [==============================] - 0s 94ms/step - loss: 0.6563 - accuracy: 1.0000\n",
            "Epoch 21/100\n",
            "1/1 [==============================] - 0s 98ms/step - loss: 0.6558 - accuracy: 1.0000\n",
            "Epoch 22/100\n",
            "1/1 [==============================] - 0s 95ms/step - loss: 0.6553 - accuracy: 1.0000\n",
            "Epoch 23/100\n",
            "1/1 [==============================] - 0s 92ms/step - loss: 0.6548 - accuracy: 1.0000\n",
            "Epoch 24/100\n",
            "1/1 [==============================] - 0s 99ms/step - loss: 0.6543 - accuracy: 1.0000\n",
            "Epoch 25/100\n",
            "1/1 [==============================] - 0s 107ms/step - loss: 0.6538 - accuracy: 1.0000\n",
            "Epoch 26/100\n",
            "1/1 [==============================] - 0s 105ms/step - loss: 0.6532 - accuracy: 1.0000\n",
            "Epoch 27/100\n",
            "1/1 [==============================] - 0s 84ms/step - loss: 0.6527 - accuracy: 1.0000\n",
            "Epoch 28/100\n",
            "1/1 [==============================] - 0s 58ms/step - loss: 0.6522 - accuracy: 1.0000\n",
            "Epoch 29/100\n",
            "1/1 [==============================] - 0s 50ms/step - loss: 0.6517 - accuracy: 1.0000\n",
            "Epoch 30/100\n",
            "1/1 [==============================] - 0s 47ms/step - loss: 0.6512 - accuracy: 1.0000\n",
            "Epoch 31/100\n",
            "1/1 [==============================] - 0s 50ms/step - loss: 0.6507 - accuracy: 1.0000\n",
            "Epoch 32/100\n",
            "1/1 [==============================] - 0s 50ms/step - loss: 0.6502 - accuracy: 1.0000\n",
            "Epoch 33/100\n",
            "1/1 [==============================] - 0s 53ms/step - loss: 0.6497 - accuracy: 1.0000\n",
            "Epoch 34/100\n",
            "1/1 [==============================] - 0s 59ms/step - loss: 0.6491 - accuracy: 1.0000\n",
            "Epoch 35/100\n",
            "1/1 [==============================] - 0s 50ms/step - loss: 0.6486 - accuracy: 1.0000\n",
            "Epoch 36/100\n",
            "1/1 [==============================] - 0s 47ms/step - loss: 0.6481 - accuracy: 1.0000\n",
            "Epoch 37/100\n",
            "1/1 [==============================] - 0s 49ms/step - loss: 0.6476 - accuracy: 1.0000\n",
            "Epoch 38/100\n",
            "1/1 [==============================] - 0s 50ms/step - loss: 0.6471 - accuracy: 1.0000\n",
            "Epoch 39/100\n",
            "1/1 [==============================] - 0s 59ms/step - loss: 0.6466 - accuracy: 1.0000\n",
            "Epoch 40/100\n",
            "1/1 [==============================] - 0s 48ms/step - loss: 0.6461 - accuracy: 1.0000\n",
            "Epoch 41/100\n",
            "1/1 [==============================] - 0s 50ms/step - loss: 0.6456 - accuracy: 1.0000\n",
            "Epoch 42/100\n",
            "1/1 [==============================] - 0s 53ms/step - loss: 0.6451 - accuracy: 1.0000\n",
            "Epoch 43/100\n",
            "1/1 [==============================] - 0s 49ms/step - loss: 0.6445 - accuracy: 1.0000\n",
            "Epoch 44/100\n",
            "1/1 [==============================] - 0s 50ms/step - loss: 0.6440 - accuracy: 1.0000\n",
            "Epoch 45/100\n",
            "1/1 [==============================] - 0s 59ms/step - loss: 0.6434 - accuracy: 1.0000\n",
            "Epoch 46/100\n",
            "1/1 [==============================] - 0s 56ms/step - loss: 0.6427 - accuracy: 1.0000\n",
            "Epoch 47/100\n",
            "1/1 [==============================] - 0s 56ms/step - loss: 0.6418 - accuracy: 1.0000\n",
            "Epoch 48/100\n",
            "1/1 [==============================] - 0s 68ms/step - loss: 0.6402 - accuracy: 1.0000\n",
            "Epoch 49/100\n",
            "1/1 [==============================] - 0s 55ms/step - loss: 0.6349 - accuracy: 1.0000\n",
            "Epoch 50/100\n",
            "1/1 [==============================] - 0s 55ms/step - loss: 0.6288 - accuracy: 1.0000\n",
            "Epoch 51/100\n",
            "1/1 [==============================] - 0s 58ms/step - loss: 0.6112 - accuracy: 1.0000\n",
            "Epoch 52/100\n",
            "1/1 [==============================] - 0s 50ms/step - loss: 0.5616 - accuracy: 1.0000\n",
            "Epoch 53/100\n",
            "1/1 [==============================] - 0s 54ms/step - loss: 0.5285 - accuracy: 1.0000\n",
            "Epoch 54/100\n",
            "1/1 [==============================] - 0s 48ms/step - loss: 0.0012 - accuracy: 1.0000\n",
            "Epoch 55/100\n",
            "1/1 [==============================] - 0s 56ms/step - loss: 0.0012 - accuracy: 1.0000\n",
            "Epoch 56/100\n",
            "1/1 [==============================] - 0s 50ms/step - loss: 0.0012 - accuracy: 1.0000\n",
            "Epoch 57/100\n",
            "1/1 [==============================] - 0s 60ms/step - loss: 0.0012 - accuracy: 1.0000\n",
            "Epoch 58/100\n",
            "1/1 [==============================] - 0s 49ms/step - loss: 0.0012 - accuracy: 1.0000\n",
            "Epoch 59/100\n",
            "1/1 [==============================] - 0s 51ms/step - loss: 0.0012 - accuracy: 1.0000\n",
            "Epoch 60/100\n",
            "1/1 [==============================] - 0s 51ms/step - loss: 0.0012 - accuracy: 1.0000\n",
            "Epoch 61/100\n",
            "1/1 [==============================] - 0s 53ms/step - loss: 0.0012 - accuracy: 1.0000\n",
            "Epoch 62/100\n",
            "1/1 [==============================] - 0s 55ms/step - loss: 0.0012 - accuracy: 1.0000\n",
            "Epoch 63/100\n",
            "1/1 [==============================] - 0s 50ms/step - loss: 0.0011 - accuracy: 1.0000\n",
            "Epoch 64/100\n",
            "1/1 [==============================] - 0s 51ms/step - loss: 0.0012 - accuracy: 1.0000\n",
            "Epoch 65/100\n",
            "1/1 [==============================] - 0s 52ms/step - loss: 0.0012 - accuracy: 1.0000\n",
            "Epoch 66/100\n",
            "1/1 [==============================] - 0s 51ms/step - loss: 0.0013 - accuracy: 1.0000\n",
            "Epoch 67/100\n",
            "1/1 [==============================] - 0s 51ms/step - loss: 0.0014 - accuracy: 1.0000\n",
            "Epoch 68/100\n",
            "1/1 [==============================] - 0s 53ms/step - loss: 0.0013 - accuracy: 1.0000\n",
            "Epoch 69/100\n",
            "1/1 [==============================] - 0s 61ms/step - loss: 0.0012 - accuracy: 1.0000\n",
            "Epoch 70/100\n",
            "1/1 [==============================] - 0s 51ms/step - loss: 0.0012 - accuracy: 1.0000\n",
            "Epoch 71/100\n",
            "1/1 [==============================] - 0s 54ms/step - loss: 0.0011 - accuracy: 1.0000\n",
            "Epoch 72/100\n",
            "1/1 [==============================] - 0s 49ms/step - loss: 0.0011 - accuracy: 1.0000\n",
            "Epoch 73/100\n",
            "1/1 [==============================] - 0s 53ms/step - loss: 0.0011 - accuracy: 1.0000\n",
            "Epoch 74/100\n",
            "1/1 [==============================] - 0s 53ms/step - loss: 0.0011 - accuracy: 1.0000\n",
            "Epoch 75/100\n",
            "1/1 [==============================] - 0s 63ms/step - loss: 0.0011 - accuracy: 1.0000\n",
            "Epoch 76/100\n",
            "1/1 [==============================] - 0s 51ms/step - loss: 0.0011 - accuracy: 1.0000\n",
            "Epoch 77/100\n",
            "1/1 [==============================] - 0s 54ms/step - loss: 0.0011 - accuracy: 1.0000\n",
            "Epoch 78/100\n",
            "1/1 [==============================] - 0s 55ms/step - loss: 0.0010 - accuracy: 1.0000\n",
            "Epoch 79/100\n",
            "1/1 [==============================] - 0s 60ms/step - loss: 0.0010 - accuracy: 1.0000\n",
            "Epoch 80/100\n",
            "1/1 [==============================] - 0s 59ms/step - loss: 9.7902e-04 - accuracy: 1.0000\n",
            "Epoch 81/100\n",
            "1/1 [==============================] - 0s 55ms/step - loss: 9.4693e-04 - accuracy: 1.0000\n",
            "Epoch 82/100\n",
            "1/1 [==============================] - 0s 51ms/step - loss: 9.1330e-04 - accuracy: 1.0000\n",
            "Epoch 83/100\n",
            "1/1 [==============================] - 0s 59ms/step - loss: 8.7839e-04 - accuracy: 1.0000\n",
            "Epoch 84/100\n",
            "1/1 [==============================] - 0s 53ms/step - loss: 8.4245e-04 - accuracy: 1.0000\n",
            "Epoch 85/100\n",
            "1/1 [==============================] - 0s 52ms/step - loss: 8.0585e-04 - accuracy: 1.0000\n",
            "Epoch 86/100\n",
            "1/1 [==============================] - 0s 55ms/step - loss: 7.7003e-04 - accuracy: 1.0000\n",
            "Epoch 87/100\n",
            "1/1 [==============================] - 0s 50ms/step - loss: 7.3992e-04 - accuracy: 1.0000\n",
            "Epoch 88/100\n",
            "1/1 [==============================] - 0s 50ms/step - loss: 7.1577e-04 - accuracy: 1.0000\n",
            "Epoch 89/100\n",
            "1/1 [==============================] - 0s 49ms/step - loss: 6.9941e-04 - accuracy: 1.0000\n",
            "Epoch 90/100\n",
            "1/1 [==============================] - 0s 55ms/step - loss: 6.9672e-04 - accuracy: 1.0000\n",
            "Epoch 91/100\n",
            "1/1 [==============================] - 0s 48ms/step - loss: 6.8388e-04 - accuracy: 1.0000\n",
            "Epoch 92/100\n",
            "1/1 [==============================] - 0s 66ms/step - loss: 6.6040e-04 - accuracy: 1.0000\n",
            "Epoch 93/100\n",
            "1/1 [==============================] - 0s 51ms/step - loss: 6.3202e-04 - accuracy: 1.0000\n",
            "Epoch 94/100\n",
            "1/1 [==============================] - 0s 49ms/step - loss: 6.1089e-04 - accuracy: 1.0000\n",
            "Epoch 95/100\n",
            "1/1 [==============================] - 0s 52ms/step - loss: 5.9827e-04 - accuracy: 1.0000\n",
            "Epoch 96/100\n",
            "1/1 [==============================] - 0s 56ms/step - loss: 5.8771e-04 - accuracy: 1.0000\n",
            "Epoch 97/100\n",
            "1/1 [==============================] - 0s 50ms/step - loss: 5.7749e-04 - accuracy: 1.0000\n",
            "Epoch 98/100\n",
            "1/1 [==============================] - 0s 48ms/step - loss: 5.6718e-04 - accuracy: 1.0000\n",
            "Epoch 99/100\n",
            "1/1 [==============================] - 0s 52ms/step - loss: 5.5597e-04 - accuracy: 1.0000\n",
            "Epoch 100/100\n",
            "1/1 [==============================] - 0s 49ms/step - loss: 5.4331e-04 - accuracy: 1.0000\n"
          ]
        },
        {
          "output_type": "execute_result",
          "data": {
            "text/plain": [
              "<keras.src.callbacks.History at 0x7c98f7dd1060>"
            ]
          },
          "metadata": {},
          "execution_count": 102
        }
      ]
    },
    {
      "cell_type": "code",
      "source": [
        "# Save the model\n",
        "model.save('similarity_model.h5')\n",
        "print(\"Model saved as similarity_model.h5\")"
      ],
      "metadata": {
        "colab": {
          "base_uri": "https://localhost:8080/"
        },
        "id": "UKqJSxULzDkt",
        "outputId": "6aafdb91-9908-4eb8-bc76-13f5fa56073c"
      },
      "execution_count": 94,
      "outputs": [
        {
          "output_type": "stream",
          "name": "stdout",
          "text": [
            "Model saved as similarity_model.h5\n"
          ]
        }
      ]
    },
    {
      "cell_type": "code",
      "source": [
        "# Function to test similarity between two texts\n",
        "def test_similarity(manual_abstract, keyword_query):\n",
        "    manual_abstract_seq = preprocess_text(manual_abstract)\n",
        "    keyword_query_seq = preprocess_text(keyword_query)\n",
        "    similarity_score = model.predict([manual_abstract_seq, keyword_query_seq])[0][0]\n",
        "    return similarity_score"
      ],
      "metadata": {
        "id": "_HBBAHq9upfw"
      },
      "execution_count": 95,
      "outputs": []
    },
    {
      "cell_type": "code",
      "source": [
        "# Example usage\n",
        "new_manual_abstract = \"The use of artificial intelligence and machine learning is growing rapidly, especially in natural language understanding applications.\"\n",
        "new_keyword_query = \"artificial intelligence OR natural language understanding\"\n",
        "\n",
        "similarity_score = test_similarity(new_manual_abstract, new_keyword_query)\n",
        "print(f\"Similarity score: {similarity_score:.4f}\")"
      ],
      "metadata": {
        "colab": {
          "base_uri": "https://localhost:8080/"
        },
        "id": "u25Jo6Fxuqxv",
        "outputId": "f1665878-44ef-4be0-a0f5-5ba0146b9188"
      },
      "execution_count": 96,
      "outputs": [
        {
          "output_type": "stream",
          "name": "stderr",
          "text": [
            "WARNING:tensorflow:5 out of the last 11 calls to <function Model.make_predict_function.<locals>.predict_function at 0x7c98edcfbe20> triggered tf.function retracing. Tracing is expensive and the excessive number of tracings could be due to (1) creating @tf.function repeatedly in a loop, (2) passing tensors with different shapes, (3) passing Python objects instead of tensors. For (1), please define your @tf.function outside of the loop. For (2), @tf.function has reduce_retracing=True option that can avoid unnecessary retracing. For (3), please refer to https://www.tensorflow.org/guide/function#controlling_retracing and https://www.tensorflow.org/api_docs/python/tf/function for  more details.\n"
          ]
        },
        {
          "output_type": "stream",
          "name": "stdout",
          "text": [
            "1/1 [==============================] - 1s 879ms/step\n",
            "Similarity score: 0.9957\n"
          ]
        }
      ]
    }
  ]
}